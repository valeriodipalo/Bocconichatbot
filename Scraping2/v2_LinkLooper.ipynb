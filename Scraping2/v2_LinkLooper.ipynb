{
 "cells": [
  {
   "cell_type": "markdown",
   "source": [
    "# Link Looper\n",
    "This section will be used to retrieve all the links of the bocconi page"
   ],
   "metadata": {
    "collapsed": false,
    "pycharm": {
     "name": "#%% md\n"
    }
   }
  },
  {
   "cell_type": "code",
   "execution_count": 1,
   "outputs": [
    {
     "name": "stderr",
     "output_type": "stream",
     "text": [
      "/Users/valedipalo/opt/anaconda3/lib/python3.8/site-packages/pandas/core/computation/expressions.py:20: UserWarning: Pandas requires version '2.7.3' or newer of 'numexpr' (version '2.7.1' currently installed).\n",
      "  from pandas.core.computation.check import NUMEXPR_INSTALLED\n"
     ]
    }
   ],
   "source": [
    "import scraping_functions as sf\n",
    "from selenium import webdriver\n",
    "from selenium.webdriver.common.by import By\n",
    "from selenium.webdriver.chrome.service import Service\n",
    "from selenium.webdriver.support.wait import WebDriverWait\n",
    "from selenium.webdriver.support.expected_conditions import element_to_be_clickable\n",
    "from selenium.webdriver.common.alert import Alert\n",
    "from datetime import date, timedelta\n",
    "from bs4 import BeautifulSoup\n",
    "import cloudscraper\n",
    "import time\n",
    "import random\n",
    "import requests\n",
    "import pandas as pd\n",
    "import re\n",
    "import json\n",
    "import pickle"
   ],
   "metadata": {
    "collapsed": false,
    "pycharm": {
     "name": "#%%\n"
    }
   }
  },
  {
   "cell_type": "code",
   "execution_count": 2,
   "outputs": [],
   "source": [
    "# SET UP THE DRIVER\n",
    "chrome_driver_path = '/Users/valedipalo/drivers/chromedriver' #\n",
    "driver = webdriver.Chrome(chrome_driver_path)"
   ],
   "metadata": {
    "collapsed": false,
    "pycharm": {
     "name": "#%%\n"
    }
   }
  },
  {
   "cell_type": "code",
   "execution_count": 3,
   "outputs": [],
   "source": [
    "L1_links = ['https://bit.unibocconi.it/hc/it/categories/4407572405138-Alloggi-on-campus','https://bit.unibocconi.it/hc/it/categories/4407572389778-Agevolazioni','https://bit.unibocconi.it/hc/it/categories/4405709230354-Biblioteca','https://bit.unibocconi.it/hc/it/categories/4407349830674-Double-Degree','https://bit.unibocconi.it/hc/it/categories/4407569547154-Free-Mover','https://bit.unibocconi.it/hc/it/categories/4406571640978-ITEC-IT-Education-Center-','https://bit.unibocconi.it/hc/it/categories/4406571634962-Lingue','https://bit.unibocconi.it/hc/it/categories/4407579238034-Tasse-e-contributi']\n"
   ],
   "metadata": {
    "collapsed": false,
    "pycharm": {
     "name": "#%%\n"
    }
   }
  },
  {
   "cell_type": "code",
   "execution_count": 4,
   "outputs": [
    {
     "data": {
      "text/plain": "'https://bit.unibocconi.it/hc/it/categories/4407572405138-Alloggi-on-campus'"
     },
     "execution_count": 4,
     "metadata": {},
     "output_type": "execute_result"
    }
   ],
   "source": [
    "L1_links[0]\n"
   ],
   "metadata": {
    "collapsed": false,
    "pycharm": {
     "name": "#%%\n"
    }
   }
  },
  {
   "cell_type": "code",
   "execution_count": 5,
   "outputs": [
    {
     "name": "stdout",
     "output_type": "stream",
     "text": [
      "Sleep 3s\n",
      "200\n",
      "['https://bit.unibocconi.it/hc/it/sections/4407168206098-Domanda-alloggi-', 'https://bit.unibocconi.it/hc/it/sections/4407175007378-Disponibilit%C3%A0-di-alloggi-in-corso-d-anno', 'https://bit.unibocconi.it/hc/it/sections/4407174997522-Check-in-e-check-out', 'https://bit.unibocconi.it/hc/it/sections/4407175010706-Vivere-le-residenze', 'https://bit.unibocconi.it/hc/it/sections/4407168147346-Recesso-e-rinuncia', 'https://bit.unibocconi.it/hc/it/sections/4407174986514-Cessione-temporanea']\n"
     ]
    }
   ],
   "source": [
    "level2 = sf.looper_test1(L1_links[0])\n",
    "print(level2)"
   ],
   "metadata": {
    "collapsed": false,
    "pycharm": {
     "name": "#%%\n"
    }
   }
  },
  {
   "cell_type": "code",
   "execution_count": 18,
   "outputs": [
    {
     "name": "stdout",
     "output_type": "stream",
     "text": [
      "Sleep 5s\n"
     ]
    }
   ],
   "source": [
    "level3 = looper_test2V(level2[0])\n"
   ],
   "metadata": {
    "collapsed": false,
    "pycharm": {
     "name": "#%%\n"
    }
   }
  },
  {
   "cell_type": "code",
   "execution_count": 19,
   "outputs": [
    {
     "name": "stdout",
     "output_type": "stream",
     "text": [
      "['https://bit.unibocconi.it/hc/it/articles/4408356577170-Posso-confermare-il-mio-alloggio-per-l-anno-accademico-2023-24-', 'https://bit.unibocconi.it/hc/it/articles/4408350430226-Come-posso-richiedere-l-assegnazione-di-un-alloggio-a-tariffa-agevolata-per-l-anno-accademico-2023-24-', 'https://bit.unibocconi.it/hc/it/articles/4408356879378-Vorrei-prenotare-un-alloggio-a-tariffa-intera-per-l-a-a-2023-24-Come-posso-procedere-', 'https://bit.unibocconi.it/hc/it/articles/4515815535378-Ho-bisogno-di-una-dichiarazione-relativa-alla-mia-assegnazione-alloggio-Come-posso-chiederla-']\n"
     ]
    }
   ],
   "source": [
    "print(level3)\n"
   ],
   "metadata": {
    "collapsed": false,
    "pycharm": {
     "name": "#%%\n"
    }
   }
  },
  {
   "cell_type": "code",
   "execution_count": 17,
   "outputs": [],
   "source": [
    "# SAVE THE LINKS\n",
    "with open('finallinks.pkl', 'wb') as f:\n",
    "   pickle.dump(link3, f)\n"
   ],
   "metadata": {
    "collapsed": false,
    "pycharm": {
     "name": "#%%\n"
    }
   }
  }
 ],
 "metadata": {
  "kernelspec": {
   "name": "python385jvsc74a57bd0f1542c306cb0ca549d86eea72bf10f27023ff55b8cfdccad77c56cbf504d0e3a",
   "language": "python",
   "display_name": "Python 3.8.5 ('base')"
  },
  "language_info": {
   "codemirror_mode": {
    "name": "ipython",
    "version": 2
   },
   "file_extension": ".py",
   "mimetype": "text/x-python",
   "name": "python",
   "nbconvert_exporter": "python",
   "pygments_lexer": "ipython2",
   "version": "2.7.6"
  }
 },
 "nbformat": 4,
 "nbformat_minor": 0
}