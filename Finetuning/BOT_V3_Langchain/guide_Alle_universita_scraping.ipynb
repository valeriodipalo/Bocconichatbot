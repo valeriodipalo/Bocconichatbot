{
 "cells": [
  {
   "cell_type": "markdown",
   "metadata": {
    "pycharm": {
     "name": "#%% md\n"
    }
   },
   "source": [
    "### Set up"
   ]
  },
  {
   "cell_type": "code",
   "execution_count": 4,
   "metadata": {
    "collapsed": false,
    "jupyter": {
     "outputs_hidden": false
    },
    "pycharm": {
     "name": "#%%\n"
    }
   },
   "outputs": [],
   "source": [
    "import re\n",
    "import pandas as pd\n",
    "from PyPDF2 import PdfReader\n",
    "\n",
    "# Function to extract text from the PDF\n",
    "def extract_text_from_pdf(file_path):\n",
    "    reader = PdfReader(file_path)\n",
    "    text = ''\n",
    "    for page in reader.pages:\n",
    "        text += page.extract_text() + '\\n\\n'  # Adding extra newline for better separation\n",
    "    return text\n",
    "\n",
    "# Function to parse sections considering multiline headings\n",
    "def parse_sections(text):\n",
    "    # Adjusted pattern to capture numeric section identifiers possibly followed by multiline titles\n",
    "    section_pattern = re.compile(r'(\\d+\\.\\n(?:[A-Z][a-z]+\\s*)+\\n)')\n",
    "    sections = section_pattern.split(text)[1:]  # Split text, keeping delimiters\n",
    "\n",
    "    # Pairing section numbers with their titles and content\n",
    "    sections_data = []\n",
    "    for i in range(0, len(sections), 2):\n",
    "        title = sections[i].strip()\n",
    "        content = sections[i + 1].strip()\n",
    "        sections_data.append((title, content))\n",
    "\n",
    "    return sections_data  # Returns a list of tuples (title, content)\n",
    "\n",
    "# Function to convert sections to Excel\n",
    "def sections_to_excel(sections_data, output_file_path):\n",
    "    df = pd.DataFrame(sections_data, columns=['Section Title', 'Content'])\n",
    "    df.to_excel(output_file_path, index=False)\n",
    "\n",
    "# Example usage with placeholders for file paths\n",
    "pdf_file_path = \"../../Data/Guide/guide_test.pdf\"  # Replace with the path to your PDF file\n",
    "excel_file_path = \"../../Data/Guide/guide_test.xlsx\"\n",
    "\n",
    "# Extracting text from PDF\n",
    "text = extract_text_from_pdf(pdf_file_path)\n",
    "\n",
    "# Parsing sections from the text\n",
    "sections_data = parse_sections(text)\n",
    "\n",
    "# Exporting parsed sections to an Excel file\n",
    "sections_to_excel(sections_data, excel_file_path)\n"
   ]
  },
  {
   "cell_type": "code",
   "execution_count": null,
   "metadata": {
    "collapsed": false,
    "jupyter": {
     "outputs_hidden": false
    },
    "pycharm": {
     "name": "#%%\n"
    }
   },
   "outputs": [],
   "source": [
    "path = \"../../Data/Guide/guide_test.pdf\"\n"
   ]
  },
  {
   "cell_type": "markdown",
   "metadata": {
    "pycharm": {
     "name": "#%% md\n"
    }
   },
   "source": [
    "# PDF reader"
   ]
  },
  {
   "cell_type": "code",
   "execution_count": 5,
   "metadata": {
    "collapsed": false,
    "jupyter": {
     "outputs_hidden": false
    },
    "pycharm": {
     "name": "#%%\n"
    }
   },
   "outputs": [
    {
     "ename": "NameError",
     "evalue": "name 'path' is not defined",
     "output_type": "error",
     "traceback": [
      "\u001B[0;31m---------------------------------------------------------------------------\u001B[0m",
      "\u001B[0;31mNameError\u001B[0m                                 Traceback (most recent call last)",
      "Input \u001B[0;32mIn [5]\u001B[0m, in \u001B[0;36m<cell line: 1>\u001B[0;34m()\u001B[0m\n\u001B[0;32m----> 1\u001B[0m reader \u001B[38;5;241m=\u001B[39m PdfReader(\u001B[43mpath\u001B[49m)\n\u001B[1;32m      2\u001B[0m text \u001B[38;5;241m=\u001B[39m \u001B[38;5;124m'\u001B[39m\u001B[38;5;124m'\u001B[39m\n\u001B[1;32m      3\u001B[0m \u001B[38;5;28;01mfor\u001B[39;00m page \u001B[38;5;129;01min\u001B[39;00m reader\u001B[38;5;241m.\u001B[39mpages:\n",
      "\u001B[0;31mNameError\u001B[0m: name 'path' is not defined"
     ]
    }
   ],
   "source": [
    "reader = PdfReader(path)\n",
    "text = ''\n",
    "for page in reader.pages:\n",
    "    text += page.extract_text() + '\\n'\n",
    "\n",
    "print(text)"
   ]
  },
  {
   "cell_type": "code",
   "execution_count": null,
   "metadata": {
    "collapsed": false,
    "jupyter": {
     "outputs_hidden": false
    },
    "pycharm": {
     "name": "#%%\n"
    }
   },
   "outputs": [],
   "source": [
    "text = text.replace(\"Programmi insegnamenti - Divisione Didattica \", '')\n",
    "text = text.replace(\"© Università Bocconi - Via Sarfatti, 25 Milano - \",\"\")\n",
    "date_pattern = re.compile(r'(Last change \\d{2}/\\d{2}/\\d{4} \\d{2}:\\d{2})')\n",
    "# Add a newline character after each matched pattern\n",
    "modified_text = date_pattern.sub(r'\\1\\n', text)\n",
    "\n",
    "modified_text"
   ]
  },
  {
   "cell_type": "markdown",
   "metadata": {},
   "source": [
    "## General text cleaner "
   ]
  },
  {
   "cell_type": "code",
   "execution_count": 9,
   "metadata": {},
   "outputs": [],
   "source": [
    "from pdfminer.high_level import extract_text\n",
    "\n",
    "text = extract_text(\"../../Data/Guide/4layerstrial.pdf\")"
   ]
  },
  {
   "cell_type": "code",
   "execution_count": 10,
   "metadata": {
    "collapsed": false,
    "jupyter": {
     "outputs_hidden": false
    },
    "pycharm": {
     "name": "#%%\n"
    }
   },
   "outputs": [],
   "source": [
    "text = text.replace(\"\"\"Programmi insegnamenti - Divisione Didattica\n",
    "\n",
    "GUIDES TO THE UNIVERSITY BOCCONI\n",
    "\n",
    "2023-2024 A.Y.\n",
    "BACHELOR OF SCIENCE PROGRAMS (3-Y) \"\"\",\"\")\n",
    "text = text.replace(\"Programmi insegnamenti - Divisione Didattica\", '')\n",
    "text = text.replace(\"© Università Bocconi - Via Sarfatti, 25 Milano - PI 03628350153\",\"---\")\n",
    "pagination_pattern = re.compile(r'Pag\\. \\d+/\\d+')\n",
    "\n",
    "# Replace the matched pattern with an empty string\n",
    "modified_text = pagination_pattern.sub('', text)\n"
   ]
  },
  {
   "cell_type": "code",
   "execution_count": 11,
   "metadata": {},
   "outputs": [
    {
     "data": {
      "text/plain": [
       "'\\n\\n1.\\n\\nSTUDENT RESOURCES\\n\\nLast change 01/06/2023 08:00\\n\\n1.1.\\n\\nUseful tools for students\\n\\nTo manage their academic careers, each student can use the following tools:\\n\\npersonal credentials to access University services;\\nyoU@B student Diary;\\nPunto Blu;\\nEmail account;\\nMicrosoft365 applications;\\nPersonalized ID card with photo.\\n\\nLast change 30/06/2023 10:12\\n\\n1.2.\\n\\nBocconi personal credentials\\n\\nAll students are equipped with credentials allowing them to access the network and the\\nUniversity IT services.\\n\\nThe credentials are:\\n\\nUserID: as a general rule, this is the student ID number assigned to the first\\n\\n---\\n\\n\\n\\n       \\n \\n \\n\\x0c\\n\\nacademic career at Bocconi;\\nPassphrase: this is the password initially used for the initial enrollment procedure\\nonline.\\n\\nUsing the credentials allows access to:\\n\\nyoU@B Student Diary (youatb.unibocconi.it);\\nBocconi email account (outlook.unibocconi.it);\\nMicrosoft365 applications (office.unibocconi.it);\\nWi-Fi Network (bocconi-studenti);\\ne-learning (blackboard.unibocconi.it);\\nLibrary.\\n\\nBocconi users are strongly urged to:\\n\\nkeep their credentials secret. They are strictly personal, show them to no one;\\nchange the Bocconi passphrase on a regular basis for security reasons;\\nchoose a sufficiently complex passphrase that is difficult to guess;\\nnot use another Bocconi user\\'s credentials.\\n\\nChanging the passphrase\\n\\nThe passphrase can be changed through:\\n\\nyoU@B student Diary (youatb.unibocconi.it);\\nSelf Service Password Reset (sspr.unibocconi.it).\\n\\nStudents are encouraged to enter their alternate contact information (phone number,\\npersonal email address) in SSPR, which can subsequently be used to activate the recovery\\nprocedure in case of a forgotten passphrase.\\n\\nPassphrase recovery\\n\\nThe passphrase for accessing the online services can be retrieved by using the Self Service\\nPassphrase Reset function available in the yoU@B Diary login screen. For this purpose,\\nstudents are asked to enter the original password or to answer to the secret questions\\nchosen when accessing the Diary for the first time and/or subsequently modified. An ID code\\ncan also be sent to the student’s email address or mobile phone number (in this case, only if\\ncontact information has already been entered).\\n\\nIn case of compromised access credentials\\n\\nCompromise of login credentials is the most common vector for cybersecurity attacks. This\\nintrusion occurs mostly through techniques called phishing which consist in sending the user\\nmessages that appear to be authentic mails from an institutional site or from an\\nacquaintance. Instead, they induce the user to click on links that lead to sites purpose-built\\n\\n---\\n\\n\\n\\n \\n\\x0c\\n\\nfor stealing passwords.\\n\\nOnce the credentials have been stolen, the student\\'s email address and identity could be\\nused to conduct illegal activities that could cause damage to the University or to third parties.\\n\\nStudents must be aware of these risks and other social engineering techniques aimed at\\nidentity theft and, in case of suspicion, they should contact the Bocconi Security Operation\\nCenter without delay at soc@unibocconi.it for verification. of the incident.\\n\\nLast change 30/06/2023 10:13\\n\\n1.3.\\n\\nyoU@B Student Diary\\n\\nThe yoU@B student Diary is a reserved area online available to all Bocconi students.\\nThrough yoU@B, students can receive information from the University, use online services\\ndedicated to teaching, administer some activities in their academic careers, check dates,\\ntimes and rooms for both exams and graduation sessions, check class timetables and so on.\\n\\nThe yoU@B student Diary is available in both English and Italian. Students can change the\\nlanguage of the yoU@B content at any time.\\n\\nStudents can consult the student Diary in two ways:\\n\\nDesktop version (which is the full and complete version of the yoU@B);\\nMobile app yoU@B Pro (which includes only some of the main functions).\\n\\nLast change 30/06/2023 10:14\\n\\n1.3.1.\\n\\nyoU@B Student Diary: Desktop Version\\n\\n---\\n\\n\\n\\n \\n \\n \\n \\n\\x0c\\n\\nThe desktop version is the full and complete version of the yoU@B student Diary and\\nit should therefore be consulted frequently.\\n\\nThe yoU@B includes:\\n\\na homepage displaying the widgets with communication from the various University\\nservices;\\na list of menus including, under each item, all functions available to students for\\nadministering one’s academic career.\\n\\nIn addition to the widgets of the various University services, the homepage includes:\\n\\nNotices: for messages from the Academic Services and other University services;\\nTo do list: in addition to all main notifications referring to some student requirements,\\nthis includes also the Teaching widget, where up-to-date information regarding\\nlectures is published;\\n‘Your student ID Card’: widget through which the card can be\\ndeactivated/reactivated for services on campus in case of card loss, a replacement\\ncan be requested or a temporary QR Code pass can be printed;\\nExams: includes the list of exam registrations completed by the student and a section\\nwith the exam breakdown of students in classrooms for the exam date;\\nSign-up for various activities: to sign up for extracurricular activities; this function\\ncan be viewed only if activities have been scheduled for the student;\\nBlackboard: to access to the University e-learning platform.\\n\\nMenu items include:\\n\\nB in Touch (>Home): a tool which must be used to contact some University services.\\nIt includes FAQs (Frequently Asked Questions) organized by topic and subject.\\nThrough the procedure, students can forward their request to the appropriate office\\ndepending on the selected topic;\\nPunto Blu: function that students can use to complete some of the most important\\nadministrative activities;\\nTeaching: including the main procedures supporting teaching (e.g. B-clicker,\\nBlackboard, Teaching box, Attendance register); \\nRegistration exam session (>exam sessions): to register for exams;\\nClass timetable: to check the class timetable, by date or by code;\\nCheck Faculty office hours (>Faculty Office hours);\\nCertificates: to access the cert@B procedure to submit a certification request, or to\\naccess the \\'self-declarations\\' printing function;\\nEvents: the home page of this menu item includes widgets dedicated to all scheduled\\nBocconi events organized by the University and by students, sporting and cultural\\nassociations;\\nUtilities: one of the functions available here is the \\'Update your profile\\' section, which\\nallows students to update their personal profile and change their password.\\n\\n---\\n\\n\\n\\n \\n\\x0c\\n\\nIn addition, during the year and/or for special categories of students, specific functions,\\nprocedures and information may be available, such as:\\n\\nregistration for modules for courses in which they are required;\\nrecognition procedure for exams taken abroad;\\nECDL exam enrollment and/or registration of ECDL;\\nsigning up for supplementary activities;\\nuseful information for assignment of the final paper (students enrolled in the last year\\nof their cycle).\\n\\nHow to access yoU@B\\n\\nThe yoU@B student Diary can be accessed from the homepage of the Bocconi website\\nat www.unibocconi.eu/ or https://youatb.unibocconi.it. Users must log in and enter their\\naccess credentials.\\n\\nIt is important to note that yoU@B, along with the Bocconi email account and B in\\nTouch, is the University\\'s main communication tool used for student communication.\\nTherefore, students are kindly asked to frequently check the messages received.\\n\\nLast change 30/06/2023 10:15\\n\\n1.3.2.\\n\\nyoU@B Pro: Mobile App\\n\\nThe yoU@B student Diary is also available in a mobile version, offering students quick and\\neasy access to the most important content that is also available in the desktop version.\\n\\nBecause some content and functions may not be available in the mobile version, the\\ndesktop version of the yoU@B student Diary should be accessed frequently.\\n\\nStudents can download the yoU@B Pro application, available free of charge for iOS and\\nAndroid devices.\\n\\nAfter downloading the app on their device, students can log in and access some of the most\\nimportant functions also available in the desktop version of the yoU@B student Diary,\\nincluding:\\n\\nCALENDAR: to view personalized class schedule, exam timetables and teaching\\n\\n---\\n\\n\\n\\n \\n \\n \\n\\x0c\\n\\ndeadlines; through this function you can register your attendance in class\\n(Attendance) via the Check-in function and register and/or unsubscribe to exam\\nappeals;\\nMESSAGES: to read messages sent by the different University services;\\nMY EXAMS: to view the room allocated for the exams and to view exam grades;\\nB IN TOUCH: to check the FAQs on different topics and request information from the\\nvarious University services;\\nYOUR BOCCONI ID CARD: to deactivate/reactivate the card and generate a\\ntemporary QR Code pass;\\nSTUDY SEATS: to book study seats located in Campus buildings.\\n\\nOther features include:\\n\\nEMAIL;\\nAttendance register;\\nBocconi Sport\\n\\nBy enabling push notifications on the yoU@B Pro app, you can stay informed\\nregarding deadlines for exam registration, get real time information when communications\\nare available from various University services, etc.\\n\\nThe yoU@B Pro app is available in both Italian and English languages. To change the\\nlanguage in use, you need to:\\n\\nlog in to the app;\\nenter the ‘MyB’ section;\\nclick on ‘Update profile’; \\nselect the desired language from the drop-down menu on the right.\\n\\nLast change 03/07/2023 09:48\\n\\n1.4.\\n\\nPunto Blu\\n\\nThe Punto Blu function, which can be accessed from the yoU@B Diary, allows students to\\ncarry out some administrative activities regarding their student academic career.\\nThere are Punto Blu terminals on campus which allow access to the Bocconi website and the\\n\\n---\\n\\n\\n\\n \\n \\n \\n\\x0c\\n\\nyoU@B Diary. Some Punto Blu functions are only available from the Punto Blu points located\\nat the university, e.g. printing the unofficial academic transcript which is the document that\\ncontains student\\'s personal details and all the course listed in the program structure. The\\ntranscript is subsequently updated with the dates and marks of exams passed and includes\\nthe single grades of courses subdivided in modules (if included in the program structure)\\nvalid exclusively at the University for rankings such as ISU scholarships, Exchange programs\\netc.\\nStudents can access Punto Blu only after they have completed the complete initial enrollment\\nprocedure.\\n\\nPunto Blu functions are available both in English and in Italian and can be viewed by\\nstudents in accordance with the language version set in the yoU@B student Diary.\\n\\nTo access Punto Blu functions, students must:\\n\\naccess the yoU@B Student Diary;\\nclick on \\'Punto Blu\\' from the Diary homepage.\\n\\nLast change 30/06/2023 10:19\\n\\n1.5.\\n\\nEmail\\n\\nAll currently enrolled students are given a Bocconi email account. Students can use this\\naccount free of charge. \\nFirst-year students are automatically assigned an email address upon enrollment.\\n\\nThe email can be accessed either at outlook.unibocconi.it or from the yoU@B student Diary\\nby entering the access credentials.\\n\\nThe Bocconi students email address is composed of: the student ID number +\\n@studbocconi.it.\\nStudents are also automatically assigned an alias address on the basis of possible\\ncombinations of first name and surname, to help them use their Bocconi email accounts.\\n\\nFor more information\\nTechnology Support for students\\nemail: helpmail@studbocconi.it\\n\\n---\\n\\n\\n\\n \\n \\n\\x0c\\n\\nThe Bocconi email account, along with the yoU@B student Diary and the B in Touch\\nprocedure, is the preferred channel to communicate to students; for this reason,\\nstudents are recommended to check their email account to read messages sent by the\\nUniversity.\\n\\nOnce students have received a Bocconi email account, they must use it along with B in\\nTouch for any communications to the University.\\n\\nThe University does not answer communications sent from private email addresses.\\n\\nLast change 30/06/2023 12:10\\n\\n1.6.\\n\\nBocconi ID Card\\n\\nThe personalized Bocconi photo ID card is an essential non-transferable personal\\ndocument used:\\n\\nas proof of identity in the University;\\nto sit exams;\\nto access some University Buildings with controlled entry;\\nto use IT rooms;\\nto use the cafeteria;\\nto use the Library and to borrow books;\\nto use the MyPrint Service.\\n\\nIn addition, the student ID card is also enabled to be used for banking operations.\\n\\nOnce the card has been activated for banking operations, contracts and payment services\\nwill occur exclusively between the user and Banca Popolare di Sondrio, without mediation\\nby the University.\\n\\nLast change 30/06/2023 12:11\\n\\n1.6.1.\\n\\nYour ID Card Widget\\n\\n---\\n\\n\\n\\n \\n\\x0c\\n\\nOn their yoU@B Diary, students can find the ‘Your ID Card’ widget allowing them to\\nmanage the deactivation/reactivation of the card and request a replacement in case their\\ncard is lost/stolen. Specifically, they can:\\n\\nprint a QR code daily pass* only valid to access University buildings;\\ntemporarily deactivate the Bocconi ID card - for security reasons and only with\\nreference to services on campus;\\nreactivate the Bocconi ID Card - only with reference to services on campus\\nrequest a replacement card.\\n\\n*The QR Code pass will allow access to campus buildings with controlled entry, but it will\\nnot grant rights to other Bocconi services (e.g. sitting exams, book loans at the Library,\\netc.).\\n\\nIn addition, issuance of a QR Code will automatically deactivate the forgotten/lost card. To\\nuse the forgotten student ID card again, students must enter the yoU@B Diary and click\\n‘Reactivate your ID card’ button.\\nIf the card has been activated as a credit card, it can be blocked by following the procedure\\ndescribed in \\'Theft and Loss of ID card\\'.\\nBecause the student ID card is an identification document essential for campus activities, in\\ncase of a lost/stolen card, students must request a duplicate in accordance with what is\\ndescribed in \\'Theft and Loss of ID card\\'.\\n\\nLast change 30/06/2023 12:12\\n\\n1.6.2.\\n\\nTheft and loss of ID card\\n\\nIf the personalized photo ID card has been lost, stolen, damaged or if the magnetic strip no\\nlonger works, you should immediately:\\n\\n1. deactivate it using the “Your ID Card” widget. This will ensure that your card is not\\nused improperly by third parties (e.g. to illegitimately take out book loans from the\\nLibrary);\\nin addition, if the card has been activated for banking operations, you should\\nimmediately contact Banca Popolare di Sondrio to block the card at the phone\\nnumber: 800.822.056 (+39 02 60843768 for international calls).\\n\\n2.\\n\\n---\\n\\n\\n\\n \\n \\n \\n\\x0c\\n\\nTo issue a new Bocconi ID card:\\n\\nif the card is lost or stolen, a replacement fee is charged;\\nif the magnetic strip no longer works or the card is damaged, a replacement is free of\\ncharge only upon submission of the damaged card when collecting the new one.\\n\\nFor details about the procedure for re-issuing the Bocconi ID card (students), see\\nRequesting ID Card Replacement.\\n\\nLast change 30/06/2023 12:12\\n\\n1.6.3.\\n\\nRequesting ID card replacement\\n\\nOnly if the ID Card is lost or stolen can a request for a replacement be made from yoU@B\\nthrough the “Your ID Card” widget.\\nIn this case, a €26 fee will be charged for the issue of a new Bocconi ID card.\\nIf a previously lost card is found after the replacement request has been made, it cannot\\nbe reactivated.\\n\\nIf the card is damaged or the magnetic strip is no longer working, the student should\\ntake the damaged card to the B in Touch Point so that it can be checked. In this case, there\\nis no charge for a replacement. If the student does not submit the damaged card, however,\\nthe replacement fee will be charged.\\n\\nLast change 30/06/2023 12:13\\n\\n1.7.\\n\\nPersonal computers\\n\\nLast change 01/06/2023 08:00\\n\\n---\\n\\n\\n\\n \\n    \\n \\n\\x0c\\n\\n1.7.1.\\n\\nStudent\\'s personal laptop computer\\n\\nEach student must have a personal laptop computer, with the following minimum\\ncharacteristics:\\n\\nWi-Fi with at least IEEE 802.11ac standard;\\nintegrated video camera and microphone;\\nWindows 10 or later operating system or macOS 10.12 and later\\n\\nThis computer should be taken to the classroom whenever required by faculty members. Due\\nto the progressive innovations to teaching methods adopted, in fact, the use of computers\\ncould constitute an essential condition both to participate in the lectures of some courses and\\nto take exams. For recommended hardware requirements: Current Students > Services >\\nICT > Wi-Fi Activation > Hardware Requirements.\\n\\nLast change 30/06/2023 12:13\\n\\n1.7.2.\\n\\nWi-Fi internet points at the university\\n\\nStudents can access the University Wi-Fi network \"bocconi-studenti\" by using their Bocconi\\naccess credentials. By accessing the Wi-Fi network, students implicitly accept the \" Terms\\nand Conditions of Use\" available at Current Students > Services > ICT > Wi-Fi Activation\\n>Terms and Conditions of Use.\\n\\nLast change 30/06/2023 12:13\\n\\n1.8.\\n\\nMyPrint mobile print service\\n\\nBocconi University offers students a mobile print service, Ricoh MyPrint. This is a self-\\n\\n---\\n\\n\\n\\n \\n\\x0c\\n\\nservice system on campus allowing printing, photocopying and scanning via any device,\\nincluding through a mobile application.\\n\\nFor detailed information on how to activate an account and how to use the service, the guide\\navailable in the yoU@B Diary Documents section should be consulted.\\n\\nLast change 30/06/2023 12:14\\n\\n---\\n\\n\\n\\n \\n\\x0c\\n\\n2.\\n\\n3-Y DEGREE PROGRAM STRUCTURES\\n\\nLast change 01/06/2023 08:00\\n\\n2.1.\\n\\nStudents Enrolled Starting from the 2018-2019 Academic Year\\n\\nThrough the joint agreement of the European Ministers of Education meeting in Bologna,\\ntransformed the University reform of 1999 transformed the organization of the Italian\\nuniversity. It changed the structure of both the study plan and the degree programs in the\\nfields of Economics and Management from one long four-year cycle to the so-called 3 plus 2,\\ndivided into two cycles (undergraduate and graduate).\\n\\nThe result of a homogeneous course of studies in Europe was the free movement of students\\nwithin universities during their educational training and subsequently the movement of\\ngraduates in the world of work.\\n\\nThe two study cycles are to be considered separate; at the end of each, a final exam is\\nrequired, as well as the awarding of a diploma and the certification of the title obtained.\\n\\nOnce the 3-year cycle has been completed the student can decide whether to enter the world\\nof work or continue his/her university studies by enrolling in a graduate program (Master of\\nScience or a Specialized Master).\\n\\nSince the start of the Bocconi University graduate programs, the selection process has been\\ndistinct from that of the undergraduate one; therefore, admission to an undergraduate degree\\nprogram does not imply the automatic admission to a Master of Science program.\\n\\nThe selection criteria for graduate programs are defined by the administration during the\\nannual plan of activities and are published on the website and in the Bocconi information\\npack before the candidates\\' assessment procedure takes place.\\n\\nFor the 2023-2024 academic year, the Undergraduate School offers the following three-year\\n\\n---\\n\\n\\n\\n  \\n \\n\\x0c\\n\\nBachelor of Science programs:\\n\\n4 Bachelor of Science programs which are part of the \"Management\" field of study\\n(no. L-18, Ministerial Decree 16 March 2007):\\n\\nBachelor of Science in Economia aziendale e management [Business\\nAdministration and Management] (CLEAM);\\nBachelor of Science in Economia e finanza [Economics and Finance] (CLEF);\\nBachelor of Science in Economia e management per arte, cultura e\\ncomunicazione - Economics and Management for Arts, Culture and\\nCommunication (CLEACC);\\nBachelor of Science in International Economics and Management (BIEM).\\n\\n3 Bachelor of Science programs which is part of the \"Economics\" field of study (no.\\nL-33, Ministerial Decree 16 March 2007):\\n\\nEconomic and Social Sciences (BESS);\\nBachelor of Science in International Economics and Finance (BIEF);\\nEconomics, Management and Computer Science (BEMACS).\\n\\n1 Bachelor of Science program belonging to the program field of studies (no. L-36\\nMinisterial Decree 16 March 2007) Scienze politiche e delle relazioni internazionali:\\nBachelor of Science in International Politics and Government (BIG)\\n\\n1 Bachelor of Science program belonging to the \"Scienze matematiche\" field of study\\n(no. L-35 Ministerial Decree 16 March 2007) (the program benefits from several\\ndegrees of “flexibility” according to article 8.1 of Ministerial Decree 6/2019): \\n\\nMathematical and Computing Sciences for Artificial Intelligence (BAI)\\n1 Bachelor of Science program belonging to the \" Scienze dei Servizi Giuridici\" field\\nof study (no. L-14 Ministerial Decree 16 March 2007):\\n\\nGlobal Law (BGL)\\n\\nFour programs share the same disciplinary foundation: Economia aziendale e\\nmanagement [Business Administration and Management](CLEAM); Economia e finanza\\n[Economics and Finance] (CLEF); International Economics and Management (BIEM) and\\nInternational Economics and Finance (BIEF).\\n\\nThe Bachelor of Science programs International Economics and Management, International\\nEconomics and Finance, International Politics and Government, Economics Management\\nand Computer Science, Economic and Social Sciences, Mathematical and Computing\\nSciences for Artificial Intelligence, Global Law and a class group of Economics and\\nManagement for Arts, Culture and Communication are taught in English (a knowledge of\\nEnglish equal to at least a B2 level is required) and have a marked international preparation.\\nThe remaining programs, taught in Italian, need a prerequisite of English knowledge of B1\\nlevel.\\n\\nEconomia e management per arte, cultura e comunicazione - Economics and Management\\nin Arts, Culture and Communication (CLEACC), Economics, Management and Computer\\nScience (BEMACS), Economic and Social Sciences (BESS), International Politics and\\nGovernment (BIG) and Mathematical and Computing Sciences for Artificial Intelligence (BAI) \\n\\n---\\n\\n\\n\\n \\n \\n\\x0c\\n\\nand Global Law (BGL) are characterized by specific course profiles, starting with the first\\nyear of studies.\\n\\nThe structure of the programs with a shared disciplinary foundation is centered around 3\\nmodules:\\n\\ncommon foundation: during the first 3 semesters the same subject foundation is\\nproposed for all Bachelor of Science programs. Basic knowledge concerning the\\nfields of political economics, corporate economics, and quantitative methods and law\\nis covered;\\ncharacterization of the Bachelor of Science programs: the fourth semester and\\npart of the fifth deal with subjects which characterize the chosen study program.\\nSpecifically, the subject matter of the program includes an in-depth understanding of\\nprivate and public enterprises and how they work, the finance sector, sectors that\\ndeal with the general economic system, economics and the political-institutional and\\nsocial contexts, with a strong focus on internationalism;\\nindividualizing the educational path: in the fifth and especially in the sixth\\nsemesters, students choose how to complete their educational path by sitting elective\\nexams which may be chosen selecting elective courses from among the general list.\\n\\nThe class groups, comprised on average of 120 students for the programs taught in Italian\\nand 100 for the programs taught in English, with the exception of the class group for\\nMathematical and Computing Sciences for Artificial Intelligence (BAI), which is comprised of\\naround 80 students and the class group for Global Law (BGL) which is comprised of around\\n50 students, are structured as follows:\\n\\n8\\n2\\n1\\n\\nclass groups in English\\n\\nBachelor of Science program class groups in Italian\\nCLEAM\\nCLEF\\nCLEACC\\nBESS\\nBIEM\\nBIEF\\nBIG\\nBEMACS\\nBAI\\nBGL\\nThe program requirements are expressed in credit points.\\nA credit point is the unit of measurement which determines the workload students are\\nrequired to fulfill. It is assumed that students are adequately prepared from the start to carry\\nout the educational activities required by the study program. The workload includes both\\nclassroom activities (lectures, exercises, seminars) and individual study, as well as other\\neducational activities such as preparation of the final paper.\\n\\n1\\n1\\n4\\n2\\n1\\n1\\n1\\n1\\n\\nIn accordance with the ECTS (European Credit Transfer and Accumulation System), on\\naverage 1 credit point corresponds to 25 hours of work for the student; about 8 hours, (but no\\n\\n---\\n\\n\\n\\n \\n \\n \\n \\n \\n \\n \\n \\n \\n \\n\\x0c\\n\\nmore than 10) are spent in the classroom.\\n\\nThe average workload for a full-time student is set at 60 credit points per year as per\\nagreement.\\n\\nTo graduate, students must have earned 180 credit points.\\n\\nCredit points are given for all educational activities which students carry out, such as exams\\nfor both compulsory and elective courses, language and IT exams, and preparation of the\\nfinal paper.\\n\\nCredit points do not substitute marks; they are given when passed exams are registered.\\nCredit points and marks make up the student\\'s academic curriculum.\\n\\nLast change 11/07/2023 15:42\\n\\n2.1.1.\\n\\nEducational Activities\\n\\nThe program structures are made up of a variety of educational activities to which credits are\\nassigned. Such activities can be divided as follows:\\n\\ncompulsory activities: compulsory courses, first and second European language,\\nseminars, computer skills, final paper);\\nactivity chosen by the student: electives, activities carried out at other universities,\\nthird language, internship).\\n\\nThe student\\'s individual study plan must include at least one course taught in English\\n(compulsory or elective).\\n\\nFor students to graduate, the university reform requires that they have knowledge of 2\\nEuropean languages, for all programs in the fields of Economics and Management and\\nPolitical Sciences and International Relations (first and second language), for the BSc\\nin Mathematical and Computing Sciences for Artificial Intelligence belonging to the field in\\nScienze matematiche and Global Law belonging to the field in Scienze dei Servizi\\nGiuridici the university reform requires that they have knowledge of 1 European language.\\nThe rules for the choice of language courses are specified in chapter 3.1. Languages.\\n\\nLast change 11/07/2023 15:44\\n\\n---\\n\\n\\n\\n \\n \\n\\x0c\\n\\n2.1.2.\\n\\nCompulsory Courses\\n\\nEvery program structure includes compulsory courses, corresponding to exams that all\\nstudents enrolled in that program must pass.\\nTherefore, compulsory courses are essential in order to satisfy program requirements, and\\nare the fundamental building blocks for the educational objectives of the program.  According\\nto current regulations such educational activities are classified as: \"basic\", \"characteristic\" of\\nthe program\\'s field of study, \"similar or supplementary to the characteristic ones\", with\\nparticular regard to the cultural context and interdisciplinary education, and \"independently\\ndecided upon by the university\".  \\n\\nThe \"Bachelor of Science program structures\" chapter contains a section devoted to each\\nBachelor of Science program where students can find the detailed program structure with the\\nlist of all the compulsory courses, their credit point value and positioning in the program\\'s\\nyear of studies.\\n\\nCourse profiles are available on the website at http://www.unibocconi.eu/courses.\\n\\nDetailed course programs (course syllabuses) are available on line (Blackboard and\\nyoU@B), and are also usually handed out by faculty in the classroom on the first days of\\nlectures.\\n\\nLast change 01/06/2023 08:00\\n\\n2.1.3.\\n\\nEducational Activities Chosen by the Students\\n\\nThe educational activities chosen by the students, which include the elective courses, are\\nselected by the students to complete their study plan. The elective course is worth 6 credit\\npoints.\\n\\nBefore choosing their electives students should consult the \"Table of incompatible courses\",\\nthe \"Table of banned courses\".\\nAs an alternative to an elective course it is possible to carry out a curricular internship.\\n\\nCourse profiles of elective courses are available on the website at \\n\\n---\\n\\n\\n\\n \\n\\x0c\\n\\nhttp://www.unibocconi.eu/courses.\\n\\nDetailed course programs (course syllabuses) are available on-line in Blackboard, in the\\nyoU@B Diary, and are also usually handed out by faculty in the classroom on the first days\\nof lectures.\\n\\nLast change 13/07/2023 09:44\\n\\n2.1.4.\\n\\nBachelor of Science in Economia Aziendale e Management [Business Administration\\nand Management] (CLEAM)\\n\\nProgram Director:\\nAngelo Ditillo\\n\\nAssistant to the Program Director:\\nPaola Taricco\\n\\nField of study:\\nManagement (no. L-18, Ministerial Decree 16 March 2007)\\n\\nLast change 01/06/2023 08:00\\n\\n2.1.4.1.\\n\\nEducational Objectives\\n\\nThe Business Administration and Management (CLEAM) 3-y degree program has the\\nfollowing educational objectives:\\n\\n1. provide a solid basic preparation in business, economics, quantitative and juridical\\n\\n---\\n\\n\\n\\n \\n \\n \\n\\x0c\\n\\nsubject areas to critically understand the economic-juridical context in which\\ncompanies, public bodies, financial institutions work;\\n\\n2. provide a vast preparation in business subjects to ensure a command of all issues\\n\\nregarding company management applied to different types of enterprises\\n(manufacturing, commercial, services, etc.) as well as the economic contexts in which\\ncompanies operate (industrial, financial, etc.);\\n\\n3. promote knowledge acquisition and the development of applied competences relative\\nto the various business functions (organization, strategy, accounting, planning and\\ncontrol, marketing and sales, logistics, production and innovation, corporate finance,\\netc.);\\n\\n4. develop competences besides knowledge via educational activities inside and outside\\nthe classroom which promote student-teacher interaction and interaction between the\\nstudents themselves (ability to express their opinions, to work in group, to negotiate)\\nas well as developing problem setting and problem solving skills;\\n\\n5. develop competences to have a command of business, computer skills, and the use\\n\\nof two EU languages to be effective and efficient in the professional sphere;\\n\\n6. stimulate students to responsibly evaluate the consequences of their decisions in the\\n\\nprofessional sphere.\\n\\nLast change 11/07/2023 15:45\\n\\n2.1.4.2.\\n\\nProfessional and Work Opportunities for Graduates\\n\\nJunior professional profile in the field of business management\\n\\nPosition in the workplace:\\nGraduates in Economia Aziendale e Management work in one of the areas of business\\nmanagement, as an internal resource or an external consultant, mainly supporting more\\nsenior roles, carrying out:\\n\\nplanning and control positions;\\naccounting-administrative positions;\\nfinance and tax positions;\\nsupply chain management positions;\\norganization and personnel management positions;\\nsales and marketing positions.\\n\\nSkills associated with the position:\\nGraduates in Economia Aziendale e Management have the basic skills needed to carry out\\n\\n---\\n\\n\\n\\n \\n\\x0c'"
      ]
     },
     "execution_count": 11,
     "metadata": {},
     "output_type": "execute_result"
    }
   ],
   "source": [
    "modified_text"
   ]
  },
  {
   "cell_type": "markdown",
   "metadata": {
    "pycharm": {
     "name": "#%% md\n"
    }
   },
   "source": [
    "# pdfminer"
   ]
  },
  {
   "cell_type": "code",
   "execution_count": null,
   "outputs": [],
   "source": [
    "from pdfminer.high_level import extract_text\n",
    "\n",
    "text = extract_text(\"../../Data/Guide/guide_test.pdf\")\n"
   ],
   "metadata": {
    "collapsed": false,
    "pycharm": {
     "name": "#%%\n"
    }
   }
  },
  {
   "cell_type": "code",
   "execution_count": null,
   "outputs": [],
   "source": [
    "text = modified_text\n",
    "text "
   ],
   "metadata": {
    "collapsed": false,
    "pycharm": {
     "name": "#%%\n"
    }
   }
  },
  {
   "cell_type": "code",
   "execution_count": null,
   "outputs": [],
   "source": [
    "def parse_text_with_depth(text):\n",
    "    # Define regular expression patterns\n",
    "    header_pattern = r'(\\d+(?:\\.\\d+){0,3})\\.\\s*([^\\n]+)'\n",
    "    last_change_pattern = r'Last change (\\d{2}/\\d{2}/\\d{4} \\d{2}:\\d{2})'\n",
    "\n",
    "    # Find headers in the text\n",
    "    headers = [(match.group(), match.start()) for match in re.finditer(header_pattern, text)]\n",
    "\n",
    "    last_change_for_next_section = \"\"\n",
    "    data = []\n",
    "\n",
    "    for i, (header, start_index) in enumerate(headers):\n",
    "        # Extract section number and title\n",
    "        section_number, title = re.match(header_pattern, header).groups()\n",
    "        levels = section_number.split('.')\n",
    "\n",
    "        # Assign category, section, subsection, and subsubsection based on depth\n",
    "        category = title if len(levels) == 1 else \"General\"\n",
    "        section = \"General\" if len(levels) < 2 else title if len(levels) == 2 else \"General\"\n",
    "        subsection = \"General\" if len(levels) < 3 else title if len(levels) == 3 else \"General\"\n",
    "        subsubsection = \"General\" if len(levels) < 4 else title\n",
    "\n",
    "        # Determine text range for the current section\n",
    "        end_index = headers[i + 1][1] if i + 1 < len(headers) else len(text)\n",
    "        section_text = text[start_index:end_index].strip()\n",
    "        section_text = re.sub(header_pattern, '', section_text, 1).strip()\n",
    "\n",
    "        # Search for \"Last change\" within this section\n",
    "        last_change_match = re.search(last_change_pattern, section_text)\n",
    "        if last_change_match:\n",
    "            last_change_for_this_section = last_change_match.group(1)\n",
    "            section_text = section_text[:last_change_match.start()].strip()\n",
    "        else:\n",
    "            last_change_for_this_section = last_change_for_next_section\n",
    "\n",
    "        last_change_for_next_section = last_change_for_this_section if last_change_match else \"\"\n",
    "\n",
    "        # Append structured data\n",
    "        data.append({\n",
    "            'Number': section_number,\n",
    "            'Category': category,\n",
    "            'Section': section,\n",
    "            'Subsection': subsection,\n",
    "            'Subsubsection': subsubsection,\n",
    "            'Text': section_text,\n",
    "            'Last Change': last_change_for_this_section\n",
    "        })\n",
    "\n",
    "    return data"
   ],
   "metadata": {
    "collapsed": false,
    "pycharm": {
     "name": "#%%\n"
    }
   }
  },
  {
   "cell_type": "code",
   "execution_count": null,
   "outputs": [],
   "source": [
    "modified_text"
   ],
   "metadata": {
    "collapsed": false,
    "pycharm": {
     "name": "#%%\n"
    }
   }
  },
  {
   "cell_type": "code",
   "execution_count": null,
   "outputs": [],
   "source": [
    "parsed_data_with_depth = parse_text_with_depth(modified_text)\n",
    "\n",
    "# Convert the parsed data into a DataFrame for better visualization\n",
    "df_with_depth = pd.DataFrame(parsed_data_with_depth)\n",
    "\n",
    "# Display the DataFrame to verify the structure\n",
    "df_with_depth"
   ],
   "metadata": {
    "collapsed": false,
    "pycharm": {
     "name": "#%%\n"
    }
   }
  },
  {
   "cell_type": "code",
   "execution_count": null,
   "outputs": [],
   "source": [
    "edge_text = \"1.6.2.\\n\\nTheft and loss of ID card\\n\\nIf the personalized photo ID card has been lost, stolen, damaged or if the magnetic strip no\\nlonger works, you should immediately:\\n\\n1. deactivate it using the “Your ID Card” widget. This will ensure that your card is not\\nused improperly by third parties (e.g. to illegitimately take out book loans from the\\nLibrary);\\nin addition, if the card has been activated for banking operations, you should\\nimmediately contact Banca Popolare di Sondrio to block the card at the phone\\nnumber: 800.822.056 (+39 02 60843768 for international calls).\\n\\n2.\\n\\n---\\n\\n\\n\\n \\n \\n \\n\\x0c\\n\\nTo issue a new Bocconi ID card:\\n\\nif the card is lost or stolen, a replacement fee is charged;\\nif the magnetic strip no longer works or the card is damaged, a replacement is free of\\ncharge only upon submission of the damaged card when collecting the new one.\\n\\nFor details about the procedure for re-issuing the Bocconi ID card (students), see\\nRequesting ID Card Replacement.\\n\\nLast change 30/06/2023 12:12\\n\\n1.6.3.\\n\\nRequesting ID card replacement\\n\\nOnly if the ID Card is lost or stolen can a request for a replacement be made from yoU@B\\nthrough the “Your ID Card” widget.\\nIn this case, a €26 fee will be charged for the issue of a new Bocconi ID card.\\nIf a previously lost card is found after the replacement request has been made, it cannot\\nbe reactivated.\\n\\nIf the card is damaged or the magnetic strip is no longer working, the student should\\ntake the damaged card to the B in Touch Point so that it can be checked. In this case, there\\nis no charge for a replacement. If the student does not submit the damaged card, however,\\nthe replacement fee will be charged.\\n\\nLast change 30/06/2023 12:13\\n\\n1.7.\\n\\nPersonal computers\\n\\nLast change 01/06/2023 08:00\\n\\n---\\n\\n\\n\\n \\n    \\n \\n\\x0c\\n\\n1.7.1.\\n\\nStudent\\'s personal laptop computer\\n\\nEach student must have a personal laptop computer, with the following minimum\\ncharacteristics:\\n\\nWi-Fi with at least IEEE 802.11ac standard;\\nintegrated video camera and microphone;\\nWindows 10 or later operating system or macOS 10.12 and later\\n\\nThis computer should be taken to the classroom whenever required by faculty members. Due\\nto the progressive innovations to teaching methods adopted, in fact, the use of computers\\ncould constitute an essential condition both to participate in the lectures of some courses and\\nto take exams. For recommended hardware requirements: Current Students > Services >\\nICT > Wi-Fi Activation > Hardware Requirements.\\n\\nLast change 30/06/2023 12:13\\n\\n1.7.2\" \n",
    "edge_text "
   ],
   "metadata": {
    "collapsed": false,
    "pycharm": {
     "name": "#%%\n"
    }
   }
  },
  {
   "cell_type": "code",
   "execution_count": null,
   "outputs": [],
   "source": [
    "import re\n",
    "\n",
    "def parse_text_with_depth(text):\n",
    "    # Improved header pattern to minimize false positives\n",
    "    header_pattern = r'(?<=\\n|^)(\\d+(?:\\.\\d+){0,3})\\.\\s+([^\\n]+)'\n",
    "    last_change_pattern = r'Last change (\\d{2}/\\d{2}/\\d{4} \\d{2}:\\d{2})'\n",
    "\n",
    "    # Function to check if current section is logically after the previous one\n",
    "    def is_new_section(previous, current):\n",
    "        prev_nums = [int(num) for num in previous.split('.')]\n",
    "        curr_nums = [int(num) for num in current.split('.')]\n",
    "        for p, c in zip(prev_nums, curr_nums):\n",
    "            if c > p:\n",
    "                return True\n",
    "            elif c < p:\n",
    "                return False\n",
    "        return len(curr_nums) > len(prev_nums)\n",
    "\n",
    "    headers = [(match.group(), match.start()) for match in re.finditer(header_pattern, text)]\n",
    "    last_change_for_next_section = \"\"\n",
    "    data = []\n",
    "    previous_section = None\n",
    "\n",
    "    for i, (header, start_index) in enumerate(headers):\n",
    "        section_number, title = re.match(header_pattern, header).groups()\n",
    "\n",
    "        # Skip if not a logically sequential section\n",
    "        if previous_section and not is_new_section(previous_section, section_number):\n",
    "            continue\n",
    "\n",
    "        levels = section_number.split('.')\n",
    "        previous_section = section_number\n",
    "\n",
    "        category = title if len(levels) == 1 else \"General\"\n",
    "        section = \"General\" if len(levels) < 2 else title if len(levels) == 2 else \"General\"\n",
    "        subsection = \"General\" if len(levels) < 3 else title if len(levels) == 3 else \"General\"\n",
    "        subsubsection = \"General\" if len(levels) < 4 else title\n",
    "\n",
    "        end_index = headers[i + 1][1] if i + 1 < len(headers) else len(text)\n",
    "        section_text = text[start_index:end_index].strip()\n",
    "        section_text = re.sub(header_pattern, '', section_text, 1).strip()\n",
    "\n",
    "        last_change_match = re.search(last_change_pattern, section_text)\n",
    "        if last_change_match:\n",
    "            last_change_for_this_section = last_change_match.group(1)\n",
    "            section_text = section_text[:last_change_match.start()].strip()\n",
    "        else:\n",
    "            last_change_for_this_section = last_change_for_next_section\n",
    "\n",
    "        last_change_for_next_section = last_change_for_this_section if last_change_match else \"\"\n",
    "\n",
    "        data.append({\n",
    "            'Number': section_number,\n",
    "            'Category': category,\n",
    "            'Section': section,\n",
    "            'Subsection': subsection,\n",
    "            'Subsubsection': subsubsection,\n",
    "            'Text': section_text,\n",
    "            'Last Change': last_change_for_this_section\n",
    "        })\n",
    "\n",
    "    return data\n",
    "\n",
    "# Example usage with your provided text\n",
    "\n",
    "parsed_data = parse_text_with_depth(edge_text)\n"
   ],
   "metadata": {
    "collapsed": false,
    "pycharm": {
     "name": "#%%\n"
    }
   }
  },
  {
   "cell_type": "code",
   "execution_count": null,
   "outputs": [],
   "source": [
    "def is_new_section(previous, current):\n",
    "    prev_nums = [int(num) for num in previous.split('.')]\n",
    "    curr_nums = [int(num) for num in current.split('.')]\n",
    "    for p, c in zip(prev_nums, curr_nums):\n",
    "        if c > p:\n",
    "            return True\n",
    "        elif c < p:\n",
    "            return False\n",
    "    return len(curr_nums) > len(prev_nums)"
   ],
   "metadata": {
    "collapsed": false,
    "pycharm": {
     "name": "#%%\n"
    }
   }
  },
  {
   "cell_type": "code",
   "execution_count": null,
   "outputs": [],
   "source": [
    "is_new_section(\"1.5\",\"2\")"
   ],
   "metadata": {
    "collapsed": false,
    "pycharm": {
     "name": "#%%\n"
    }
   }
  },
  {
   "cell_type": "code",
   "execution_count": null,
   "outputs": [],
   "source": [
    "header_pattern = r'(?<=\\n|^)(\\d+(?:\\.\\d+){0,3})\\.\\s+([^\\n]+)'\n",
    "last_change_pattern = r'Last change (\\d{2}/\\d{2}/\\d{4} \\d{2}:\\d{2})'"
   ],
   "metadata": {
    "collapsed": false,
    "pycharm": {
     "name": "#%%\n"
    }
   }
  },
  {
   "cell_type": "code",
   "execution_count": null,
   "outputs": [],
   "source": [],
   "metadata": {
    "collapsed": false,
    "pycharm": {
     "name": "#%%\n"
    }
   }
  },
  {
   "cell_type": "code",
   "execution_count": null,
   "metadata": {},
   "outputs": [],
   "source": [
    "header_pattern = r'(?<=\\n|^)(\\d+(?:\\.\\d+){0,3})\\.\\s+([^\\n]+)'\n",
    "last_change_pattern = r'Last change (\\d{2}/\\d{2}/\\d{4} \\d{2}:\\d{2})'"
   ]
  },
  {
   "cell_type": "code",
   "execution_count": null,
   "metadata": {},
   "outputs": [],
   "source": []
  }
 ],
 "metadata": {
  "kernelspec": {
   "display_name": "Python 3 (ipykernel)",
   "language": "python",
   "name": "python3"
  },
  "language_info": {
   "codemirror_mode": {
    "name": "ipython",
    "version": 3
   },
   "file_extension": ".py",
   "mimetype": "text/x-python",
   "name": "python",
   "nbconvert_exporter": "python",
   "pygments_lexer": "ipython3",
   "version": "3.9.10"
  }
 },
 "nbformat": 4,
 "nbformat_minor": 4
}