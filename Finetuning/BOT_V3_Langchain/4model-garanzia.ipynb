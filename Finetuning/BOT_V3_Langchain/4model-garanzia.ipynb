{
 "cells": [
  {
   "cell_type": "code",
   "execution_count": null,
   "metadata": {
    "collapsed": true,
    "pycharm": {
     "name": "#%%\n"
    }
   },
   "outputs": [],
   "source": [
    "from langchain.document_loaders import UnstructuredMarkdownLoader\n",
    "from langchain.text_splitter import MarkdownHeaderTextSplitter\n",
    "from langchain_openai import OpenAIEmbeddings\n",
    "from langchain_openai import ChatOpenAI\n",
    "\n",
    "\n",
    "headers_to_split_on2 = [\n",
    "    (\"#\", \"Category\"),\n",
    "    (\"##\", \"Subcategory\"),\n",
    "    (\"###\", \"Question\"),\n",
    "    (\"####\", \"Subquestion\"),\n",
    "    (\"#####\", \"Subsubquestion\"),\n",
    "    (\"######\", \"URL\"),\n",
    "    (\"#######\",\"ID\"), ]\n",
    "\n",
    "file_path = \"../../Data/New/Markdown/Housing_reformat.md\"\n",
    "with open(file_path, 'r') as file:\n",
    "    markdown_content = file.read()\n",
    "\n",
    "markdown_splitter = MarkdownHeaderTextSplitter(\n",
    "    headers_to_split_on=headers_to_split_on2)\n",
    "splits = markdown_splitter.split_text(markdown_content)\n",
    "vs_house_ref = Chroma.from_documents(documents=splits, embedding=OpenAIEmbeddings())\n"
   ]
  }
 ],
 "metadata": {
  "kernelspec": {
   "display_name": "Python 3",
   "language": "python",
   "name": "python3"
  },
  "language_info": {
   "codemirror_mode": {
    "name": "ipython",
    "version": 2
   },
   "file_extension": ".py",
   "mimetype": "text/x-python",
   "name": "python",
   "nbconvert_exporter": "python",
   "pygments_lexer": "ipython2",
   "version": "2.7.6"
  }
 },
 "nbformat": 4,
 "nbformat_minor": 0
}