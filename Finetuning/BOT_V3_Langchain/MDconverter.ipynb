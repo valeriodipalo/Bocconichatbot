{
 "cells": [
  {
   "cell_type": "code",
   "execution_count": 1,
   "outputs": [],
   "source": [
    "# Plain conversion"
   ],
   "metadata": {
    "collapsed": false,
    "pycharm": {
     "name": "#%%\n"
    }
   }
  },
  {
   "cell_type": "code",
   "execution_count": 1,
   "outputs": [
    {
     "name": "stdout",
     "output_type": "stream",
     "text": [
      "../../Data/New/Markdown/Fees_plain.md\n",
      "../../Data/New/Markdown/Full_plain.md\n",
      "../../Data/New/Markdown/Funding_plain.md\n",
      "../../Data/New/Markdown/Housing_plain.md\n",
      "../../Data/New/Markdown/Incoming-Exc_plain.md\n",
      "../../Data/New/Markdown/Library-Freemover-DD_plain.md\n"
     ]
    }
   ],
   "source": [
    "import pandas as pd\n",
    "plain_list = [\"Fees\",\"Full\",\"Funding\",\"Housing\",\"Incoming-Exc\",\"Library-Freemover-DD\"]\n",
    "\n",
    "def convert_excel_to_markdown_plain(file_path, output_path):\n",
    "    # Load the Excel file\n",
    "    df = pd.read_excel(file_path)\n",
    "\n",
    "    # Initialize an empty string to hold the Markdown formatted text\n",
    "    markdown_text = \"\"\n",
    "\n",
    "    # Iterate through each row of the DataFrame and format it as per the instructions\n",
    "    for index, row in df.iterrows():\n",
    "        markdown_text += f\"# {row['Category 1 ']}\\n\\n\"  # Adjust the column name as per your Excel file\n",
    "        markdown_text += f\"## {row['Category 2']}\\n\\n\"  # Adjust the column name as per your Excel file\n",
    "        markdown_text += f\"### {row['Question']}\\n\\n\"  # Adjust the column name as per your Excel file\n",
    "        markdown_text += f\"#### {row['URL']}\\n\\n\"  # Adjust the column name as per your Excel file\n",
    "        markdown_text += f\"##### {row['ID ']}\\n\\n\"\n",
    "        markdown_text += f\"{row['Answer']}\\n\\n\"  # Adjust the column name as per your Excel file\n",
    "\n",
    "    # Write the Markdown text to a file\n",
    "    with open(output_path, 'w', encoding='utf-8') as md_file:\n",
    "        md_file.write(markdown_text)\n",
    "\n",
    "\n",
    "for i in plain_list:\n",
    "# Example usage\n",
    "    file_path =\"../../Data/New/Excel/\"+str(i)+\"_plain.xlsx\"\n",
    "    output_path = \"../../Data/New/Markdown/\"+str(i)+\"_plain.md\"\n",
    "    print(output_path)\n",
    "\n",
    "    convert_excel_to_markdown_plain(file_path, output_path)\n"
   ],
   "metadata": {
    "collapsed": false,
    "pycharm": {
     "name": "#%%\n"
    }
   }
  },
  {
   "cell_type": "code",
   "execution_count": null,
   "outputs": [],
   "source": [],
   "metadata": {
    "collapsed": false,
    "pycharm": {
     "name": "#%%\n"
    }
   }
  },
  {
   "cell_type": "code",
   "execution_count": null,
   "outputs": [],
   "source": [
    "#reformat conversion"
   ],
   "metadata": {
    "collapsed": false,
    "pycharm": {
     "name": "#%%\n"
    }
   }
  },
  {
   "cell_type": "code",
   "execution_count": 19,
   "outputs": [
    {
     "name": "stdout",
     "output_type": "stream",
     "text": [
      "../../Data/New/Markdown/Fees_reformat.md\n",
      "../../Data/New/Markdown/Full_reformat.md\n",
      "../../Data/New/Markdown/Funding_reformat.md\n",
      "../../Data/New/Markdown/Housing_reformat.md\n",
      "../../Data/New/Markdown/Library-Freemover_DD_reformat.md\n"
     ]
    }
   ],
   "source": [
    "import pandas as pd\n",
    "reformat_list = [\"Fees\",\"Full\",\"Funding\",\"Housing\",\"Library-Freemover_DD\"]\n",
    "\n",
    "def convert_excel_to_markdown_new(file_path, output_path):\n",
    "    # Load the Excel file\n",
    "    df = pd.read_excel(file_path)\n",
    "\n",
    "    # Initialize an empty string to hold the Markdown formatted text\n",
    "    markdown_text = \"\"\n",
    "\n",
    "    # Iterate through each row of the DataFrame and format it as per the new instructions\n",
    "    for index, row in df.iterrows():\n",
    "        markdown_text += f\"# {row['Category 1 ']}\\n\\n\"  # Corrected the reference to 'Category 1 '\n",
    "        markdown_text += f\"## {row['Category 2']}\\n\\n\"\n",
    "        markdown_text += f\"### {row['Question ']}\\n\\n\"  # Corrected the reference to 'Question '\n",
    "        markdown_text += f\"#### {row['Sub-Question']}\\n\\n\"\n",
    "        markdown_text += f\"##### {row['Extracategory']}\\n\\n\"\n",
    "        markdown_text += f\"###### {row['URL']}\\n\\n\"\n",
    "        markdown_text += f\"####### {row['ID ']}\\n\\n\"\n",
    "        markdown_text += f\"{row['Answer']}\\n\\n\"\n",
    "\n",
    "    # Write the Markdown text to a file\n",
    "    with open(output_path, 'w', encoding='utf-8') as md_file:\n",
    "        md_file.write(markdown_text)\n",
    "\n",
    "# Example usage\n",
    "for i in reformat_list:\n",
    "# Example usage\n",
    "    file_path =\"../../Data/New/Excel/\"+str(i)+\"_reformat.xlsx\"\n",
    "    output_path = \"../../Data/New/Markdown/\"+str(i)+\"_reformat.md\"\n",
    "    print(output_path)\n",
    "\n",
    "    convert_excel_to_markdown_new(file_path, output_path)\n"
   ],
   "metadata": {
    "collapsed": false,
    "pycharm": {
     "name": "#%%\n"
    }
   }
  },
  {
   "cell_type": "code",
   "execution_count": 11,
   "outputs": [
    {
     "name": "stdout",
     "output_type": "stream",
     "text": [
      "../../Data/New/Markdown/Library-Freemover_DD_reformat.md\n",
      "../../Data/New/Markdown/Library-Freemover_DD_reformat.md\n",
      "../../Data/New/Markdown/Library-Freemover_DD_reformat.md\n",
      "../../Data/New/Markdown/Library-Freemover_DD_reformat.md\n",
      "../../Data/New/Markdown/Library-Freemover_DD_reformat.md\n"
     ]
    }
   ],
   "source": [
    "for i in reformat_list:\n",
    "    print(output_path)\n"
   ],
   "metadata": {
    "collapsed": false,
    "pycharm": {
     "name": "#%%\n"
    }
   }
  },
  {
   "cell_type": "code",
   "execution_count": null,
   "outputs": [],
   "source": [],
   "metadata": {
    "collapsed": false,
    "pycharm": {
     "name": "#%%\n"
    }
   }
  }
 ],
 "metadata": {
  "kernelspec": {
   "display_name": "Python 3",
   "language": "python",
   "name": "python3"
  },
  "language_info": {
   "codemirror_mode": {
    "name": "ipython",
    "version": 2
   },
   "file_extension": ".py",
   "mimetype": "text/x-python",
   "name": "python",
   "nbconvert_exporter": "python",
   "pygments_lexer": "ipython2",
   "version": "2.7.6"
  }
 },
 "nbformat": 4,
 "nbformat_minor": 0
}