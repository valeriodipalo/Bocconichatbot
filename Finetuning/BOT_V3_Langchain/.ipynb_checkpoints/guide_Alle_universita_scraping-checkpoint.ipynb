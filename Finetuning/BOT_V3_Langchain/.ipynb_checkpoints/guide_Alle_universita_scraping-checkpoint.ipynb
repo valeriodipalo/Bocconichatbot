{
 "cells": [
  {
   "cell_type": "code",
   "execution_count": 1,
   "metadata": {
    "collapsed": true,
    "pycharm": {
     "name": "#%%\n"
    }
   },
   "outputs": [],
   "source": [
    "import re\n",
    "import pandas as pd\n",
    "from PyPDF2 import PdfReader\n",
    "\n",
    "# Function to extract text from the PDF\n",
    "def extract_text_from_pdf(file_path):\n",
    "    reader = PdfReader(file_path)\n",
    "    text = ''\n",
    "    for page in reader.pages:\n",
    "        text += page.extract_text() + '\\n\\n'  # Adding extra newline for better separation\n",
    "    return text\n",
    "\n",
    "# Function to parse sections considering multiline headings\n",
    "def parse_sections(text):\n",
    "    # Adjusted pattern to capture numeric section identifiers possibly followed by multiline titles\n",
    "    section_pattern = re.compile(r'(\\d+\\.\\n(?:[A-Z][a-z]+\\s*)+\\n)')\n",
    "    sections = section_pattern.split(text)[1:]  # Split text, keeping delimiters\n",
    "\n",
    "    # Pairing section numbers with their titles and content\n",
    "    sections_data = []\n",
    "    for i in range(0, len(sections), 2):\n",
    "        title = sections[i].strip()\n",
    "        content = sections[i + 1].strip()\n",
    "        sections_data.append((title, content))\n",
    "\n",
    "    return sections_data  # Returns a list of tuples (title, content)\n",
    "\n",
    "# Function to convert sections to Excel\n",
    "def sections_to_excel(sections_data, output_file_path):\n",
    "    df = pd.DataFrame(sections_data, columns=['Section Title', 'Content'])\n",
    "    df.to_excel(output_file_path, index=False)\n",
    "\n",
    "# Example usage with placeholders for file paths\n",
    "pdf_file_path = \"../../Data/Guide/guide_test.pdf\"  # Replace with the path to your PDF file\n",
    "excel_file_path = \"../../Data/Guide/guide_test.xlsx\"\n",
    "\n",
    "# Extracting text from PDF\n",
    "text = extract_text_from_pdf(pdf_file_path)\n",
    "\n",
    "# Parsing sections from the text\n",
    "sections_data = parse_sections(text)\n",
    "\n",
    "# Exporting parsed sections to an Excel file\n",
    "sections_to_excel(sections_data, excel_file_path)\n"
   ]
  },
  {
   "cell_type": "code",
   "execution_count": 7,
   "outputs": [],
   "source": [
    "path = \"../../Data/Guide/guide_test.pdf\"\n"
   ],
   "metadata": {
    "collapsed": false,
    "pycharm": {
     "name": "#%%\n"
    }
   }
  },
  {
   "cell_type": "code",
   "execution_count": 13,
   "outputs": [
    {
     "name": "stdout",
     "output_type": "stream",
     "text": [
      "Programmi insegnamenti - Divisione Didattica  GUIDES TO THE UNIVERSITY BOCCONI2023-2024 A.Y.BACHELOR OF SCIENCE PROGRAMS (3-Y) 0.HONOR CODEUniversità Bocconi considers ethics, responsibility of behaviors and actions as fundamentalaspects for the learning path and working life. For this purpose a Code of Conduct forFaculty and Students at Università Bocconi has been created with the aim of spreading andstrengthening values of honesty and fairness which are essential in learning, research andprofessional activities for the whole Bocconi Community.The Honor Code emphasizes, systematizes and makes transparent rules of conduct andsanctioning procedures that are largely already laid out in national university regulations andby Università Bocconi. From this point of view, following the code must be seen as an act oftransparency to underline the importance given by the community of reference to some basicprinciples of fairness and honesty and to favour their knowledge and sharing.The Honor Code, in line with the purposes just described, has been created and applied incooperation of all University members.The rules of reference include more detailed documents and teaching regulations(exams, final papers and so on) that are published in Honor Code of the Bocconi Communityon the website at http://www.unibocconi.eu/honorcode and available on the yoU@B StudentDiary > honor Code.Students are asked to carefully read it through a pop-up message on the yoU@B Diary andto formalize the principles included in it.     © Università Bocconi - Via Sarfatti, 25 Milano - PI 03628350153Pag. 1/232\n",
      "Programmi insegnamenti - Divisione Didattica     Last change 01/06/2023 08:000.1.Diversity, equity and inclusionBocconi University is committed to building an environment that values diversity, inclusionand equal opportunity.Being part of the Bocconi community therefore means sharing its values and maintainingconduct inspired by the principles of independence, ethics, transparency, freedom ofexpression, equity, solidarity, promotion of diversity, a focus on merit and development ofindividual skills, professionalism and standards, and social responsibility.The University's effort is aimed at guaranteeing its students a safe learning environment, freefrom any form of discrimination based on race, religion, gender, geography, age, disability orsexual orientation, in which there is room for a diversity of approaches and wherediscussions are always conducted in a respectful manner.For more information, see the 'Diversity, Equity and Inclusion' section of the Bocconi website.Last change 01/06/2023 08:000.2.Public cloud policyBocconi University will not accept any responsibility or liability for personal data, which © Università Bocconi - Via Sarfatti, 25 Milano - PI 03628350153Pag. 2/232\n",
      "Programmi insegnamenti - Divisione Didatticastudents have chosen to provide to any externally hosted cloud service platform (e.g. GoogleDrive, Dropbox, Microsoft OneDrive, despite those services might be actioned using Bocconicredentials).Students are always advised to carefully check Terms and Conditions of use, Privacy Policy,for information about how their data will be used, backed up, retained, deleted, and withwhom they may be shared.As alternative to external providers, Bocconi offers limited space for personal data on a cloud-based platform (so-called Cloud Bocconi, cloud.unibocconi.it).Each student anyway is personally responsible for data and contents uploaded or stored,regardless they are placed on an external cloud provider or onto the Bocconi cloud.Therefore, Bocconi University will not respond in order any of these situations.Last change 01/06/2023 08:00\n",
      " © Università Bocconi - Via Sarfatti, 25 Milano - PI 03628350153Pag. 3/232\n",
      "Programmi insegnamenti - Divisione Didattica1.STUDENT RESOURCES       Last change 01/06/2023 08:001.1.Useful tools for studentsTo manage their academic careers, each student can use the following tools:personal credentials to access University services;yoU@B student Diary;Punto Blu;Email account;Microsoft365 applications;Personalized ID card with photo.Last change 30/06/2023 10:121.2.Bocconi personal credentialsAll students are equipped with credentials allowing them to access the network and theUniversity IT services.The credentials are: UserID: as a general rule, this is the student ID number assigned to the first © Università Bocconi - Via Sarfatti, 25 Milano - PI 03628350153Pag. 4/232\n",
      "Programmi insegnamenti - Divisione Didatticaacademic career at Bocconi;Passphrase: this is the password initially used for the initial enrollment procedureonline.Using the credentials allows access to:yoU@B Student Diary (youatb.unibocconi.it);Bocconi email account (outlook.unibocconi.it);Microsoft365 applications (office.unibocconi.it);Wi-Fi Network (bocconi-studenti);e-learning (blackboard.unibocconi.it);Library.Bocconi users are strongly urged to:keep their credentials secret. They are strictly personal, show them to no one;change the Bocconi passphrase on a regular basis for security reasons;choose a sufficiently complex passphrase that is difficult to guess;not use another Bocconi user's credentials.Changing the passphraseThe passphrase can be changed through:yoU@B student Diary (youatb.unibocconi.it);Self Service Password Reset (sspr.unibocconi.it).Students are encouraged to enter their alternate contact information (phone number,personal email address) in SSPR, which can subsequently be used to activate the recoveryprocedure in case of a forgotten passphrase.Passphrase recoveryThe passphrase for accessing the online services can be retrieved by using the Self ServicePassphrase Reset function available in the yoU@B Diary login screen. For this purpose,students are asked to enter the original password or to answer to the secret questionschosen when accessing the Diary for the first time and/or subsequently modified. An ID codecan also be sent to the student’s email address or mobile phone number (in this case, only ifcontact information has already been entered).In case of compromised access credentialsCompromise of login credentials is the most common vector for cybersecurity attacks. Thisintrusion occurs mostly through techniques called phishing which consist in sending the usermessages that appear to be authentic mails from an institutional site or from anacquaintance. Instead, they induce the user to click on links that lead to sites purpose-built © Università Bocconi - Via Sarfatti, 25 Milano - PI 03628350153Pag. 5/232\n",
      "\n"
     ]
    }
   ],
   "source": [
    "reader = PdfReader(path)\n",
    "text = ''\n",
    "for page in reader.pages:\n",
    "    text += page.extract_text() + '\\n'\n",
    "\n",
    "print(text)"
   ],
   "metadata": {
    "collapsed": false,
    "pycharm": {
     "name": "#%%\n"
    }
   }
  },
  {
   "cell_type": "code",
   "execution_count": 15,
   "outputs": [],
   "source": [
    "text = text.replace(\"Programmi insegnamenti - Divisione Didattica \", '')\n",
    "text = text.replace(\"© Università Bocconi - Via Sarfatti, 25 Milano - \",\"\")"
   ],
   "metadata": {
    "collapsed": false,
    "pycharm": {
     "name": "#%%\n"
    }
   }
  },
  {
   "cell_type": "code",
   "execution_count": 16,
   "outputs": [
    {
     "data": {
      "text/plain": "\"  GUIDES TO THE UNIVERSITY BOCCONI2023-2024 A.Y.BACHELOR OF SCIENCE PROGRAMS (3-Y) 0.HONOR CODEUniversità Bocconi considers ethics, responsibility of behaviors and actions as fundamentalaspects for the learning path and working life. For this purpose a Code of Conduct forFaculty and Students at Università Bocconi has been created with the aim of spreading andstrengthening values of honesty and fairness which are essential in learning, research andprofessional activities for the whole Bocconi Community.The Honor Code emphasizes, systematizes and makes transparent rules of conduct andsanctioning procedures that are largely already laid out in national university regulations andby Università Bocconi. From this point of view, following the code must be seen as an act oftransparency to underline the importance given by the community of reference to some basicprinciples of fairness and honesty and to favour their knowledge and sharing.The Honor Code, in line with the purposes just described, has been created and applied incooperation of all University members.The rules of reference include more detailed documents and teaching regulations(exams, final papers and so on) that are published in Honor Code of the Bocconi Communityon the website at http://www.unibocconi.eu/honorcode and available on the yoU@B StudentDiary > honor Code.Students are asked to carefully read it through a pop-up message on the yoU@B Diary andto formalize the principles included in it.     PI 03628350153Pag. 1/232\\n     Last change 01/06/2023 08:000.1.Diversity, equity and inclusionBocconi University is committed to building an environment that values diversity, inclusionand equal opportunity.Being part of the Bocconi community therefore means sharing its values and maintainingconduct inspired by the principles of independence, ethics, transparency, freedom ofexpression, equity, solidarity, promotion of diversity, a focus on merit and development ofindividual skills, professionalism and standards, and social responsibility.The University's effort is aimed at guaranteeing its students a safe learning environment, freefrom any form of discrimination based on race, religion, gender, geography, age, disability orsexual orientation, in which there is room for a diversity of approaches and wherediscussions are always conducted in a respectful manner.For more information, see the 'Diversity, Equity and Inclusion' section of the Bocconi website.Last change 01/06/2023 08:000.2.Public cloud policyBocconi University will not accept any responsibility or liability for personal data, which PI 03628350153Pag. 2/232\\nstudents have chosen to provide to any externally hosted cloud service platform (e.g. GoogleDrive, Dropbox, Microsoft OneDrive, despite those services might be actioned using Bocconicredentials).Students are always advised to carefully check Terms and Conditions of use, Privacy Policy,for information about how their data will be used, backed up, retained, deleted, and withwhom they may be shared.As alternative to external providers, Bocconi offers limited space for personal data on a cloud-based platform (so-called Cloud Bocconi, cloud.unibocconi.it).Each student anyway is personally responsible for data and contents uploaded or stored,regardless they are placed on an external cloud provider or onto the Bocconi cloud.Therefore, Bocconi University will not respond in order any of these situations.Last change 01/06/2023 08:00\\n PI 03628350153Pag. 3/232\\n1.STUDENT RESOURCES       Last change 01/06/2023 08:001.1.Useful tools for studentsTo manage their academic careers, each student can use the following tools:personal credentials to access University services;yoU@B student Diary;Punto Blu;Email account;Microsoft365 applications;Personalized ID card with photo.Last change 30/06/2023 10:121.2.Bocconi personal credentialsAll students are equipped with credentials allowing them to access the network and theUniversity IT services.The credentials are: UserID: as a general rule, this is the student ID number assigned to the first PI 03628350153Pag. 4/232\\nacademic career at Bocconi;Passphrase: this is the password initially used for the initial enrollment procedureonline.Using the credentials allows access to:yoU@B Student Diary (youatb.unibocconi.it);Bocconi email account (outlook.unibocconi.it);Microsoft365 applications (office.unibocconi.it);Wi-Fi Network (bocconi-studenti);e-learning (blackboard.unibocconi.it);Library.Bocconi users are strongly urged to:keep their credentials secret. They are strictly personal, show them to no one;change the Bocconi passphrase on a regular basis for security reasons;choose a sufficiently complex passphrase that is difficult to guess;not use another Bocconi user's credentials.Changing the passphraseThe passphrase can be changed through:yoU@B student Diary (youatb.unibocconi.it);Self Service Password Reset (sspr.unibocconi.it).Students are encouraged to enter their alternate contact information (phone number,personal email address) in SSPR, which can subsequently be used to activate the recoveryprocedure in case of a forgotten passphrase.Passphrase recoveryThe passphrase for accessing the online services can be retrieved by using the Self ServicePassphrase Reset function available in the yoU@B Diary login screen. For this purpose,students are asked to enter the original password or to answer to the secret questionschosen when accessing the Diary for the first time and/or subsequently modified. An ID codecan also be sent to the student’s email address or mobile phone number (in this case, only ifcontact information has already been entered).In case of compromised access credentialsCompromise of login credentials is the most common vector for cybersecurity attacks. Thisintrusion occurs mostly through techniques called phishing which consist in sending the usermessages that appear to be authentic mails from an institutional site or from anacquaintance. Instead, they induce the user to click on links that lead to sites purpose-built PI 03628350153Pag. 5/232\\n\""
     },
     "execution_count": 16,
     "metadata": {},
     "output_type": "execute_result"
    }
   ],
   "source": [
    "text\n"
   ],
   "metadata": {
    "collapsed": false,
    "pycharm": {
     "name": "#%%\n"
    }
   }
  },
  {
   "cell_type": "code",
   "execution_count": 17,
   "outputs": [
    {
     "data": {
      "text/plain": "\"  GUIDES TO THE UNIVERSITY BOCCONI2023-2024 A.Y.BACHELOR OF SCIENCE PROGRAMS (3-Y) 0.HONOR CODEUniversità Bocconi considers ethics, responsibility of behaviors and actions as fundamentalaspects for the learning path and working life. For this purpose a Code of Conduct forFaculty and Students at Università Bocconi has been created with the aim of spreading andstrengthening values of honesty and fairness which are essential in learning, research andprofessional activities for the whole Bocconi Community.The Honor Code emphasizes, systematizes and makes transparent rules of conduct andsanctioning procedures that are largely already laid out in national university regulations andby Università Bocconi. From this point of view, following the code must be seen as an act oftransparency to underline the importance given by the community of reference to some basicprinciples of fairness and honesty and to favour their knowledge and sharing.The Honor Code, in line with the purposes just described, has been created and applied incooperation of all University members.The rules of reference include more detailed documents and teaching regulations(exams, final papers and so on) that are published in Honor Code of the Bocconi Communityon the website at http://www.unibocconi.eu/honorcode and available on the yoU@B StudentDiary > honor Code.Students are asked to carefully read it through a pop-up message on the yoU@B Diary andto formalize the principles included in it.     PI 03628350153Pag. 1/232\\n     Last change 01/06/2023 08:00\\n0.1.Diversity, equity and inclusionBocconi University is committed to building an environment that values diversity, inclusionand equal opportunity.Being part of the Bocconi community therefore means sharing its values and maintainingconduct inspired by the principles of independence, ethics, transparency, freedom ofexpression, equity, solidarity, promotion of diversity, a focus on merit and development ofindividual skills, professionalism and standards, and social responsibility.The University's effort is aimed at guaranteeing its students a safe learning environment, freefrom any form of discrimination based on race, religion, gender, geography, age, disability orsexual orientation, in which there is room for a diversity of approaches and wherediscussions are always conducted in a respectful manner.For more information, see the 'Diversity, Equity and Inclusion' section of the Bocconi website.Last change 01/06/2023 08:00\\n0.2.Public cloud policyBocconi University will not accept any responsibility or liability for personal data, which PI 03628350153Pag. 2/232\\nstudents have chosen to provide to any externally hosted cloud service platform (e.g. GoogleDrive, Dropbox, Microsoft OneDrive, despite those services might be actioned using Bocconicredentials).Students are always advised to carefully check Terms and Conditions of use, Privacy Policy,for information about how their data will be used, backed up, retained, deleted, and withwhom they may be shared.As alternative to external providers, Bocconi offers limited space for personal data on a cloud-based platform (so-called Cloud Bocconi, cloud.unibocconi.it).Each student anyway is personally responsible for data and contents uploaded or stored,regardless they are placed on an external cloud provider or onto the Bocconi cloud.Therefore, Bocconi University will not respond in order any of these situations.Last change 01/06/2023 08:00\\n\\n PI 03628350153Pag. 3/232\\n1.STUDENT RESOURCES       Last change 01/06/2023 08:00\\n1.1.Useful tools for studentsTo manage their academic careers, each student can use the following tools:personal credentials to access University services;yoU@B student Diary;Punto Blu;Email account;Microsoft365 applications;Personalized ID card with photo.Last change 30/06/2023 10:12\\n1.2.Bocconi personal credentialsAll students are equipped with credentials allowing them to access the network and theUniversity IT services.The credentials are: UserID: as a general rule, this is the student ID number assigned to the first PI 03628350153Pag. 4/232\\nacademic career at Bocconi;Passphrase: this is the password initially used for the initial enrollment procedureonline.Using the credentials allows access to:yoU@B Student Diary (youatb.unibocconi.it);Bocconi email account (outlook.unibocconi.it);Microsoft365 applications (office.unibocconi.it);Wi-Fi Network (bocconi-studenti);e-learning (blackboard.unibocconi.it);Library.Bocconi users are strongly urged to:keep their credentials secret. They are strictly personal, show them to no one;change the Bocconi passphrase on a regular basis for security reasons;choose a sufficiently complex passphrase that is difficult to guess;not use another Bocconi user's credentials.Changing the passphraseThe passphrase can be changed through:yoU@B student Diary (youatb.unibocconi.it);Self Service Password Reset (sspr.unibocconi.it).Students are encouraged to enter their alternate contact information (phone number,personal email address) in SSPR, which can subsequently be used to activate the recoveryprocedure in case of a forgotten passphrase.Passphrase recoveryThe passphrase for accessing the online services can be retrieved by using the Self ServicePassphrase Reset function available in the yoU@B Diary login screen. For this purpose,students are asked to enter the original password or to answer to the secret questionschosen when accessing the Diary for the first time and/or subsequently modified. An ID codecan also be sent to the student’s email address or mobile phone number (in this case, only ifcontact information has already been entered).In case of compromised access credentialsCompromise of login credentials is the most common vector for cybersecurity attacks. Thisintrusion occurs mostly through techniques called phishing which consist in sending the usermessages that appear to be authentic mails from an institutional site or from anacquaintance. Instead, they induce the user to click on links that lead to sites purpose-built PI 03628350153Pag. 5/232\\n\""
     },
     "execution_count": 17,
     "metadata": {},
     "output_type": "execute_result"
    }
   ],
   "source": [
    "date_pattern = re.compile(r'(Last change \\d{2}/\\d{2}/\\d{4} \\d{2}:\\d{2})')\n",
    "# Add a newline character after each matched pattern\n",
    "modified_text = date_pattern.sub(r'\\1\\n', text)\n",
    "\n",
    "modified_text\n"
   ],
   "metadata": {
    "collapsed": false,
    "pycharm": {
     "name": "#%%\n"
    }
   }
  },
  {
   "cell_type": "code",
   "execution_count": 18,
   "outputs": [],
   "source": [
    "pagination_pattern = re.compile(r'Pag\\. \\d+/\\d+')\n",
    "\n",
    "# Replace the matched pattern with an empty string\n",
    "modified_text = pagination_pattern.sub('', modified_text)"
   ],
   "metadata": {
    "collapsed": false,
    "pycharm": {
     "name": "#%%\n"
    }
   }
  },
  {
   "cell_type": "code",
   "execution_count": 19,
   "outputs": [
    {
     "data": {
      "text/plain": "\"  GUIDES TO THE UNIVERSITY BOCCONI2023-2024 A.Y.BACHELOR OF SCIENCE PROGRAMS (3-Y) 0.HONOR CODEUniversità Bocconi considers ethics, responsibility of behaviors and actions as fundamentalaspects for the learning path and working life. For this purpose a Code of Conduct forFaculty and Students at Università Bocconi has been created with the aim of spreading andstrengthening values of honesty and fairness which are essential in learning, research andprofessional activities for the whole Bocconi Community.The Honor Code emphasizes, systematizes and makes transparent rules of conduct andsanctioning procedures that are largely already laid out in national university regulations andby Università Bocconi. From this point of view, following the code must be seen as an act oftransparency to underline the importance given by the community of reference to some basicprinciples of fairness and honesty and to favour their knowledge and sharing.The Honor Code, in line with the purposes just described, has been created and applied incooperation of all University members.The rules of reference include more detailed documents and teaching regulations(exams, final papers and so on) that are published in Honor Code of the Bocconi Communityon the website at http://www.unibocconi.eu/honorcode and available on the yoU@B StudentDiary > honor Code.Students are asked to carefully read it through a pop-up message on the yoU@B Diary andto formalize the principles included in it.     \\n     Last change 01/06/2023 08:00\\n0.1.Diversity, equity and inclusionBocconi University is committed to building an environment that values diversity, inclusionand equal opportunity.Being part of the Bocconi community therefore means sharing its values and maintainingconduct inspired by the principles of independence, ethics, transparency, freedom ofexpression, equity, solidarity, promotion of diversity, a focus on merit and development ofindividual skills, professionalism and standards, and social responsibility.The University's effort is aimed at guaranteeing its students a safe learning environment, freefrom any form of discrimination based on race, religion, gender, geography, age, disability orsexual orientation, in which there is room for a diversity of approaches and wherediscussions are always conducted in a respectful manner.For more information, see the 'Diversity, Equity and Inclusion' section of the Bocconi website.Last change 01/06/2023 08:00\\n0.2.Public cloud policyBocconi University will not accept any responsibility or liability for personal data, which \\nstudents have chosen to provide to any externally hosted cloud service platform (e.g. GoogleDrive, Dropbox, Microsoft OneDrive, despite those services might be actioned using Bocconicredentials).Students are always advised to carefully check Terms and Conditions of use, Privacy Policy,for information about how their data will be used, backed up, retained, deleted, and withwhom they may be shared.As alternative to external providers, Bocconi offers limited space for personal data on a cloud-based platform (so-called Cloud Bocconi, cloud.unibocconi.it).Each student anyway is personally responsible for data and contents uploaded or stored,regardless they are placed on an external cloud provider or onto the Bocconi cloud.Therefore, Bocconi University will not respond in order any of these situations.Last change 01/06/2023 08:00\\n\\n \\n1.STUDENT RESOURCES       Last change 01/06/2023 08:00\\n1.1.Useful tools for studentsTo manage their academic careers, each student can use the following tools:personal credentials to access University services;yoU@B student Diary;Punto Blu;Email account;Microsoft365 applications;Personalized ID card with photo.Last change 30/06/2023 10:12\\n1.2.Bocconi personal credentialsAll students are equipped with credentials allowing them to access the network and theUniversity IT services.The credentials are: UserID: as a general rule, this is the student ID number assigned to the first \\nacademic career at Bocconi;Passphrase: this is the password initially used for the initial enrollment procedureonline.Using the credentials allows access to:yoU@B Student Diary (youatb.unibocconi.it);Bocconi email account (outlook.unibocconi.it);Microsoft365 applications (office.unibocconi.it);Wi-Fi Network (bocconi-studenti);e-learning (blackboard.unibocconi.it);Library.Bocconi users are strongly urged to:keep their credentials secret. They are strictly personal, show them to no one;change the Bocconi passphrase on a regular basis for security reasons;choose a sufficiently complex passphrase that is difficult to guess;not use another Bocconi user's credentials.Changing the passphraseThe passphrase can be changed through:yoU@B student Diary (youatb.unibocconi.it);Self Service Password Reset (sspr.unibocconi.it).Students are encouraged to enter their alternate contact information (phone number,personal email address) in SSPR, which can subsequently be used to activate the recoveryprocedure in case of a forgotten passphrase.Passphrase recoveryThe passphrase for accessing the online services can be retrieved by using the Self ServicePassphrase Reset function available in the yoU@B Diary login screen. For this purpose,students are asked to enter the original password or to answer to the secret questionschosen when accessing the Diary for the first time and/or subsequently modified. An ID codecan also be sent to the student’s email address or mobile phone number (in this case, only ifcontact information has already been entered).In case of compromised access credentialsCompromise of login credentials is the most common vector for cybersecurity attacks. Thisintrusion occurs mostly through techniques called phishing which consist in sending the usermessages that appear to be authentic mails from an institutional site or from anacquaintance. Instead, they induce the user to click on links that lead to sites purpose-built \\n\""
     },
     "execution_count": 19,
     "metadata": {},
     "output_type": "execute_result"
    }
   ],
   "source": [
    "modified_text\n"
   ],
   "metadata": {
    "collapsed": false,
    "pycharm": {
     "name": "#%%\n"
    }
   }
  },
  {
   "cell_type": "code",
   "execution_count": null,
   "outputs": [],
   "source": [
    "\"GUIDES TO THE UNIVERSITY BOCCONI2023-2024 A.Y.BACHELOR OF SCIENCE PROGRAMS (3-Y) 0.HONOR CODEUniversità Bocconi considers ethics, responsibility of behaviors and actions as fundamentalaspects for the learning path and working life. For this purpose a Code of Conduct forFaculty and Students at Università Bocconi has been created with the aim of spreading andstrengthening values of honesty and fairness which are essential in learning, research andprofessional activities for the whole Bocconi Community.The Honor Code emphasizes, systematizes and makes transparent rules of conduct andsanctioning procedures that are largely already laid out in national university regulations andby Università Bocconi. From this point of view, following the code must be seen as an act oftransparency to underline the importance given by the community of reference to some basicprinciples of fairness and honesty and to favour their knowledge and sharing.The Honor Code, in line with the purposes just described, has been created and applied incooperation of all University members.The rules of reference include more detailed documents and teaching regulations(exams, final papers and so on) that are published in Honor Code of the Bocconi Communityon the website at http://www.unibocconi.eu/honorcode and available on the yoU@B StudentDiary > honor Code.Students are asked to carefully read it through a pop-up message on the yoU@B Diary andto formalize the principles included in it.     \\n     Last change 01/06/2023 08:00\\n0.1.Diversity, equity and inclusionBocconi University is committed to building an environment that values diversity, inclusionand equal opportunity.Being part of the Bocconi community therefore means sharing its values and maintainingconduct inspired by the principles of independence, ethics, transparency, freedom ofexpression, equity, solidarity, promotion of diversity, a focus on merit and development ofindividual skills, professionalism and standards, and social responsibility.The University's effort is aimed at guaranteeing its students a safe learning environment, freefrom any form of discrimination based on race, religion, gender, geography, age, disability orsexual orientation, in which there is room for a diversity of approaches and wherediscussions are always conducted in a respectful manner.For more information, see the 'Diversity, Equity and Inclusion' section of the Bocconi website.Last change 01/06/2023 08:00\\n0.2.Public cloud policyBocconi University will not accept any responsibility or liability for personal data, which \\nstudents have chosen to provide to any externally hosted cloud service platform (e.g. GoogleDrive, Dropbox, Microsoft OneDrive, despite those services might be actioned using Bocconicredentials).Students are always advised to carefully check Terms and Conditions of use, Privacy Policy,for information about how their data will be used, backed up, retained, deleted, and withwhom they may be shared.As alternative to external providers, Bocconi offers limited space for personal data on a cloud-based platform (so-called Cloud Bocconi, cloud.unibocconi.it).Each student anyway is personally responsible for data and contents uploaded or stored,regardless they are placed on an external cloud provider or onto the Bocconi cloud.Therefore, Bocconi University will not respond in order any of these situations.Last change 01/06/2023 08:00\\n\\n \\n1.STUDENT RESOURCES       Last change 01/06/2023 08:00\\n1.1.Useful tools for studentsTo manage their academic careers, each student can use the following tools:personal credentials to access University services;yoU@B student Diary;Punto Blu;Email account;Microsoft365 applications;Personalized ID card with photo.Last change 30/06/2023 10:12\\n1.2.Bocconi personal credentialsAll students are equipped with credentials allowing them to access the network and theUniversity IT services.\"\n"
   ],
   "metadata": {
    "collapsed": false,
    "pycharm": {
     "name": "#%%\n"
    }
   }
  },
  {
   "cell_type": "code",
   "execution_count": 20,
   "outputs": [
    {
     "name": "stdout",
     "output_type": "stream",
     "text": [
      "Collecting pdfminer.six\r\n",
      "  Downloading pdfminer.six-20231228-py3-none-any.whl (5.6 MB)\r\n",
      "\u001B[2K     \u001B[90m━━━━━━━━━━━━━━━━━━━━━━━━━━━━━━━━━━━━━━━━\u001B[0m \u001B[32m5.6/5.6 MB\u001B[0m \u001B[31m8.6 MB/s\u001B[0m eta \u001B[36m0:00:00\u001B[0m00:01\u001B[0m00:01\u001B[0m\r\n",
      "\u001B[?25hRequirement already satisfied: cryptography>=36.0.0 in /Users/valedipalo/miniforge3/lib/python3.9/site-packages (from pdfminer.six) (37.0.1)\r\n",
      "Requirement already satisfied: charset-normalizer>=2.0.0 in /Users/valedipalo/miniforge3/lib/python3.9/site-packages (from pdfminer.six) (2.0.4)\r\n",
      "Requirement already satisfied: cffi>=1.12 in /Users/valedipalo/miniforge3/lib/python3.9/site-packages (from cryptography>=36.0.0->pdfminer.six) (1.15.1)\r\n",
      "Requirement already satisfied: pycparser in /Users/valedipalo/miniforge3/lib/python3.9/site-packages (from cffi>=1.12->cryptography>=36.0.0->pdfminer.six) (2.21)\r\n",
      "Installing collected packages: pdfminer.six\r\n",
      "Successfully installed pdfminer.six-20231228\r\n",
      "Note: you may need to restart the kernel to use updated packages.\n"
     ]
    }
   ],
   "source": [
    "pip install pdfminer.six\n"
   ],
   "metadata": {
    "collapsed": false,
    "pycharm": {
     "name": "#%%\n"
    }
   }
  },
  {
   "cell_type": "code",
   "execution_count": 21,
   "outputs": [
    {
     "name": "stdout",
     "output_type": "stream",
     "text": [
      "Programmi insegnamenti - Divisione Didattica\n",
      "\n",
      "GUIDES TO THE UNIVERSITY BOCCONI\n",
      "\n",
      "2023-2024 A.Y.\n",
      "BACHELOR OF SCIENCE PROGRAMS (3-Y) \n",
      "\n",
      "0.\n",
      "\n",
      "HONOR CODE\n",
      "\n",
      "Università Bocconi considers ethics, responsibility of behaviors and actions as fundamental\n",
      "aspects for the learning path and working life. For this purpose a Code of Conduct for\n",
      "Faculty and Students at Università Bocconi has been created with the aim of spreading and\n",
      "strengthening values of honesty and fairness which are essential in learning, research and\n",
      "professional activities for the whole Bocconi Community.\n",
      "\n",
      "The Honor Code emphasizes, systematizes and makes transparent rules of conduct and\n",
      "sanctioning procedures that are largely already laid out in national university regulations and\n",
      "by Università Bocconi. From this point of view, following the code must be seen as an act of\n",
      "transparency to underline the importance given by the community of reference to some basic\n",
      "principles of fairness and honesty and to favour their knowledge and sharing.\n",
      "\n",
      "The Honor Code, in line with the purposes just described, has been created and applied in\n",
      "cooperation of all University members.\n",
      "\n",
      "The rules of reference include more detailed documents and teaching regulations\n",
      "(exams, final papers and so on) that are published in Honor Code of the Bocconi Community\n",
      "on the website at http://www.unibocconi.eu/honorcode and available on the yoU@B Student\n",
      "Diary > honor Code.\n",
      "\n",
      "Students are asked to carefully read it through a pop-up message on the yoU@B Diary and\n",
      "to formalize the principles included in it.\n",
      "\n",
      "© Università Bocconi - Via Sarfatti, 25 Milano - PI 03628350153\n",
      "\n",
      "Pag. 1/232\n",
      "\n",
      "  \n",
      " \n",
      " \n",
      " \n",
      " \n",
      " \n",
      "\fProgrammi insegnamenti - Divisione Didattica\n",
      "\n",
      "Last change 01/06/2023 08:00\n",
      "\n",
      "0.1.\n",
      "\n",
      "Diversity, equity and inclusion\n",
      "\n",
      "Bocconi University is committed to building an environment that values diversity, inclusion\n",
      "and equal opportunity.\n",
      "\n",
      "Being part of the Bocconi community therefore means sharing its values and maintaining\n",
      "conduct inspired by the principles of independence, ethics, transparency, freedom of\n",
      "expression, equity, solidarity, promotion of diversity, a focus on merit and development of\n",
      "individual skills, professionalism and standards, and social responsibility.\n",
      "\n",
      "The University's effort is aimed at guaranteeing its students a safe learning environment, free\n",
      "from any form of discrimination based on race, religion, gender, geography, age, disability or\n",
      "sexual orientation, in which there is room for a diversity of approaches and where\n",
      "discussions are always conducted in a respectful manner.\n",
      "\n",
      "For more information, see the 'Diversity, Equity and Inclusion' section of the Bocconi website.\n",
      "\n",
      "Last change 01/06/2023 08:00\n",
      "\n",
      "0.2.\n",
      "\n",
      "Public cloud policy\n",
      "\n",
      "Bocconi University will not accept any responsibility or liability for personal data, which\n",
      "\n",
      "© Università Bocconi - Via Sarfatti, 25 Milano - PI 03628350153\n",
      "\n",
      "Pag. 2/232\n",
      "\n",
      " \n",
      " \n",
      " \n",
      " \n",
      " \n",
      " \n",
      "\fProgrammi insegnamenti - Divisione Didattica\n",
      "\n",
      "students have chosen to provide to any externally hosted cloud service platform (e.g. Google\n",
      "Drive, Dropbox, Microsoft OneDrive, despite those services might be actioned using Bocconi\n",
      "credentials).\n",
      "Students are always advised to carefully check Terms and Conditions of use, Privacy Policy,\n",
      "for information about how their data will be used, backed up, retained, deleted, and with\n",
      "whom they may be shared.\n",
      "As alternative to external providers, Bocconi offers limited space for personal data on a cloud-\n",
      "based platform (so-called Cloud Bocconi, cloud.unibocconi.it).\n",
      "Each student anyway is personally responsible for data and contents uploaded or stored,\n",
      "regardless they are placed on an external cloud provider or onto the Bocconi cloud.\n",
      "Therefore, Bocconi University will not respond in order any of these situations.\n",
      "\n",
      "Last change 01/06/2023 08:00\n",
      "\n",
      "© Università Bocconi - Via Sarfatti, 25 Milano - PI 03628350153\n",
      "\n",
      "Pag. 3/232\n",
      "\n",
      " \n",
      "\fProgrammi insegnamenti - Divisione Didattica\n",
      "\n",
      "1.\n",
      "\n",
      "STUDENT RESOURCES\n",
      "\n",
      "Last change 01/06/2023 08:00\n",
      "\n",
      "1.1.\n",
      "\n",
      "Useful tools for students\n",
      "\n",
      "To manage their academic careers, each student can use the following tools:\n",
      "\n",
      "personal credentials to access University services;\n",
      "yoU@B student Diary;\n",
      "Punto Blu;\n",
      "Email account;\n",
      "Microsoft365 applications;\n",
      "Personalized ID card with photo.\n",
      "\n",
      "Last change 30/06/2023 10:12\n",
      "\n",
      "1.2.\n",
      "\n",
      "Bocconi personal credentials\n",
      "\n",
      "All students are equipped with credentials allowing them to access the network and the\n",
      "University IT services.\n",
      "\n",
      "The credentials are:\n",
      "\n",
      "UserID: as a general rule, this is the student ID number assigned to the first\n",
      "\n",
      "© Università Bocconi - Via Sarfatti, 25 Milano - PI 03628350153\n",
      "\n",
      "Pag. 4/232\n",
      "\n",
      "       \n",
      " \n",
      " \n",
      "\fProgrammi insegnamenti - Divisione Didattica\n",
      "\n",
      "academic career at Bocconi;\n",
      "Passphrase: this is the password initially used for the initial enrollment procedure\n",
      "online.\n",
      "\n",
      "Using the credentials allows access to:\n",
      "\n",
      "yoU@B Student Diary (youatb.unibocconi.it);\n",
      "Bocconi email account (outlook.unibocconi.it);\n",
      "Microsoft365 applications (office.unibocconi.it);\n",
      "Wi-Fi Network (bocconi-studenti);\n",
      "e-learning (blackboard.unibocconi.it);\n",
      "Library.\n",
      "\n",
      "Bocconi users are strongly urged to:\n",
      "\n",
      "keep their credentials secret. They are strictly personal, show them to no one;\n",
      "change the Bocconi passphrase on a regular basis for security reasons;\n",
      "choose a sufficiently complex passphrase that is difficult to guess;\n",
      "not use another Bocconi user's credentials.\n",
      "\n",
      "Changing the passphrase\n",
      "\n",
      "The passphrase can be changed through:\n",
      "\n",
      "yoU@B student Diary (youatb.unibocconi.it);\n",
      "Self Service Password Reset (sspr.unibocconi.it).\n",
      "\n",
      "Students are encouraged to enter their alternate contact information (phone number,\n",
      "personal email address) in SSPR, which can subsequently be used to activate the recovery\n",
      "procedure in case of a forgotten passphrase.\n",
      "\n",
      "Passphrase recovery\n",
      "\n",
      "The passphrase for accessing the online services can be retrieved by using the Self Service\n",
      "Passphrase Reset function available in the yoU@B Diary login screen. For this purpose,\n",
      "students are asked to enter the original password or to answer to the secret questions\n",
      "chosen when accessing the Diary for the first time and/or subsequently modified. An ID code\n",
      "can also be sent to the student’s email address or mobile phone number (in this case, only if\n",
      "contact information has already been entered).\n",
      "\n",
      "In case of compromised access credentials\n",
      "\n",
      "Compromise of login credentials is the most common vector for cybersecurity attacks. This\n",
      "intrusion occurs mostly through techniques called phishing which consist in sending the user\n",
      "messages that appear to be authentic mails from an institutional site or from an\n",
      "acquaintance. Instead, they induce the user to click on links that lead to sites purpose-built\n",
      "\n",
      "© Università Bocconi - Via Sarfatti, 25 Milano - PI 03628350153\n",
      "\n",
      "Pag. 5/232\n",
      "\n",
      " \n",
      "\f\n"
     ]
    }
   ],
   "source": [
    "from pdfminer.high_level import extract_text\n",
    "\n",
    "text = extract_text(\"../../Data/Guide/guide_test.pdf\")\n",
    "print(text)\n"
   ],
   "metadata": {
    "collapsed": false,
    "pycharm": {
     "name": "#%%\n"
    }
   }
  },
  {
   "cell_type": "code",
   "execution_count": 26,
   "outputs": [],
   "source": [
    "text = text.replace(\"\"\"Programmi insegnamenti - Divisione Didattica\n",
    "\n",
    "GUIDES TO THE UNIVERSITY BOCCONI\n",
    "\n",
    "2023-2024 A.Y.\n",
    "BACHELOR OF SCIENCE PROGRAMS (3-Y) \"\"\",\"\")\n",
    "text = text.replace(\"Programmi insegnamenti - Divisione Didattica \", '')\n",
    "text = text.replace(\"© Università Bocconi - Via Sarfatti, 25 Milano - PI 03628350153\",\"---\")\n",
    "pagination_pattern = re.compile(r'Pag\\. \\d+/\\d+')\n",
    "\n",
    "# Replace the matched pattern with an empty string\n",
    "modified_text = pagination_pattern.sub('', text)\n"
   ],
   "metadata": {
    "collapsed": false,
    "pycharm": {
     "name": "#%%\n"
    }
   }
  },
  {
   "cell_type": "code",
   "execution_count": 27,
   "outputs": [
    {
     "data": {
      "text/plain": "\"\\n\\n0.\\n\\nHONOR CODE\\n\\nUniversità Bocconi considers ethics, responsibility of behaviors and actions as fundamental\\naspects for the learning path and working life. For this purpose a Code of Conduct for\\nFaculty and Students at Università Bocconi has been created with the aim of spreading and\\nstrengthening values of honesty and fairness which are essential in learning, research and\\nprofessional activities for the whole Bocconi Community.\\n\\nThe Honor Code emphasizes, systematizes and makes transparent rules of conduct and\\nsanctioning procedures that are largely already laid out in national university regulations and\\nby Università Bocconi. From this point of view, following the code must be seen as an act of\\ntransparency to underline the importance given by the community of reference to some basic\\nprinciples of fairness and honesty and to favour their knowledge and sharing.\\n\\nThe Honor Code, in line with the purposes just described, has been created and applied in\\ncooperation of all University members.\\n\\nThe rules of reference include more detailed documents and teaching regulations\\n(exams, final papers and so on) that are published in Honor Code of the Bocconi Community\\non the website at http://www.unibocconi.eu/honorcode and available on the yoU@B Student\\nDiary > honor Code.\\n\\nStudents are asked to carefully read it through a pop-up message on the yoU@B Diary and\\nto formalize the principles included in it.\\n\\n---\\n\\n\\n\\n  \\n \\n \\n \\n \\n \\n\\x0cProgrammi insegnamenti - Divisione Didattica\\n\\nLast change 01/06/2023 08:00\\n\\n0.1.\\n\\nDiversity, equity and inclusion\\n\\nBocconi University is committed to building an environment that values diversity, inclusion\\nand equal opportunity.\\n\\nBeing part of the Bocconi community therefore means sharing its values and maintaining\\nconduct inspired by the principles of independence, ethics, transparency, freedom of\\nexpression, equity, solidarity, promotion of diversity, a focus on merit and development of\\nindividual skills, professionalism and standards, and social responsibility.\\n\\nThe University's effort is aimed at guaranteeing its students a safe learning environment, free\\nfrom any form of discrimination based on race, religion, gender, geography, age, disability or\\nsexual orientation, in which there is room for a diversity of approaches and where\\ndiscussions are always conducted in a respectful manner.\\n\\nFor more information, see the 'Diversity, Equity and Inclusion' section of the Bocconi website.\\n\\nLast change 01/06/2023 08:00\\n\\n0.2.\\n\\nPublic cloud policy\\n\\nBocconi University will not accept any responsibility or liability for personal data, which\\n\\n---\\n\\n\\n\\n \\n \\n \\n \\n \\n \\n\\x0cProgrammi insegnamenti - Divisione Didattica\\n\\nstudents have chosen to provide to any externally hosted cloud service platform (e.g. Google\\nDrive, Dropbox, Microsoft OneDrive, despite those services might be actioned using Bocconi\\ncredentials).\\nStudents are always advised to carefully check Terms and Conditions of use, Privacy Policy,\\nfor information about how their data will be used, backed up, retained, deleted, and with\\nwhom they may be shared.\\nAs alternative to external providers, Bocconi offers limited space for personal data on a cloud-\\nbased platform (so-called Cloud Bocconi, cloud.unibocconi.it).\\nEach student anyway is personally responsible for data and contents uploaded or stored,\\nregardless they are placed on an external cloud provider or onto the Bocconi cloud.\\nTherefore, Bocconi University will not respond in order any of these situations.\\n\\nLast change 01/06/2023 08:00\\n\\n---\\n\\n\\n\\n \\n\\x0cProgrammi insegnamenti - Divisione Didattica\\n\\n1.\\n\\nSTUDENT RESOURCES\\n\\nLast change 01/06/2023 08:00\\n\\n1.1.\\n\\nUseful tools for students\\n\\nTo manage their academic careers, each student can use the following tools:\\n\\npersonal credentials to access University services;\\nyoU@B student Diary;\\nPunto Blu;\\nEmail account;\\nMicrosoft365 applications;\\nPersonalized ID card with photo.\\n\\nLast change 30/06/2023 10:12\\n\\n1.2.\\n\\nBocconi personal credentials\\n\\nAll students are equipped with credentials allowing them to access the network and the\\nUniversity IT services.\\n\\nThe credentials are:\\n\\nUserID: as a general rule, this is the student ID number assigned to the first\\n\\n---\\n\\n\\n\\n       \\n \\n \\n\\x0cProgrammi insegnamenti - Divisione Didattica\\n\\nacademic career at Bocconi;\\nPassphrase: this is the password initially used for the initial enrollment procedure\\nonline.\\n\\nUsing the credentials allows access to:\\n\\nyoU@B Student Diary (youatb.unibocconi.it);\\nBocconi email account (outlook.unibocconi.it);\\nMicrosoft365 applications (office.unibocconi.it);\\nWi-Fi Network (bocconi-studenti);\\ne-learning (blackboard.unibocconi.it);\\nLibrary.\\n\\nBocconi users are strongly urged to:\\n\\nkeep their credentials secret. They are strictly personal, show them to no one;\\nchange the Bocconi passphrase on a regular basis for security reasons;\\nchoose a sufficiently complex passphrase that is difficult to guess;\\nnot use another Bocconi user's credentials.\\n\\nChanging the passphrase\\n\\nThe passphrase can be changed through:\\n\\nyoU@B student Diary (youatb.unibocconi.it);\\nSelf Service Password Reset (sspr.unibocconi.it).\\n\\nStudents are encouraged to enter their alternate contact information (phone number,\\npersonal email address) in SSPR, which can subsequently be used to activate the recovery\\nprocedure in case of a forgotten passphrase.\\n\\nPassphrase recovery\\n\\nThe passphrase for accessing the online services can be retrieved by using the Self Service\\nPassphrase Reset function available in the yoU@B Diary login screen. For this purpose,\\nstudents are asked to enter the original password or to answer to the secret questions\\nchosen when accessing the Diary for the first time and/or subsequently modified. An ID code\\ncan also be sent to the student’s email address or mobile phone number (in this case, only if\\ncontact information has already been entered).\\n\\nIn case of compromised access credentials\\n\\nCompromise of login credentials is the most common vector for cybersecurity attacks. This\\nintrusion occurs mostly through techniques called phishing which consist in sending the user\\nmessages that appear to be authentic mails from an institutional site or from an\\nacquaintance. Instead, they induce the user to click on links that lead to sites purpose-built\\n\\n---\\n\\n\\n\\n \\n\\x0c\""
     },
     "execution_count": 27,
     "metadata": {},
     "output_type": "execute_result"
    }
   ],
   "source": [
    "modified_text\n"
   ],
   "metadata": {
    "collapsed": false,
    "pycharm": {
     "name": "#%%\n"
    }
   }
  },
  {
   "cell_type": "code",
   "execution_count": null,
   "outputs": [],
   "source": [
    "\\n0.\\n\\nHONOR CODE\\n\\nUniversità Bocconi considers ethics, responsibility of behaviors and actions as fundamental\\naspects for the learning path and working life. For this purpose a Code of Conduct for\\nFaculty and Students at Università Bocconi has been created with the aim of spreading and\\nstrengthening values of honesty and fairness which are essential in learning, research and\\nprofessional activities modified_text\n",
    "\n"
   ],
   "metadata": {
    "collapsed": false,
    "pycharm": {
     "name": "#%%\n"
    }
   }
  }
 ],
 "metadata": {
  "kernelspec": {
   "display_name": "Python 3",
   "language": "python",
   "name": "python3"
  },
  "language_info": {
   "codemirror_mode": {
    "name": "ipython",
    "version": 2
   },
   "file_extension": ".py",
   "mimetype": "text/x-python",
   "name": "python",
   "nbconvert_exporter": "python",
   "pygments_lexer": "ipython2",
   "version": "2.7.6"
  }
 },
 "nbformat": 4,
 "nbformat_minor": 0
}